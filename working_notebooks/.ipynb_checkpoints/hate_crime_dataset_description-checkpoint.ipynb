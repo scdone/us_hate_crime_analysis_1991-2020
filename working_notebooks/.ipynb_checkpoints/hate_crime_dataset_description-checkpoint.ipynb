{
 "cells": [
  {
   "cell_type": "markdown",
   "id": "1d089575",
   "metadata": {},
   "source": [
    "# Dataset Description - U.S. Hate Crimes"
   ]
  },
  {
   "cell_type": "markdown",
   "id": "95006240",
   "metadata": {},
   "source": [
    "### Overview"
   ]
  },
  {
   "cell_type": "markdown",
   "id": "4b449145",
   "metadata": {},
   "source": [
    "This dataset has data from the FBI on hate crimes committed in the U.S. from 1991 - 2020. "
   ]
  },
  {
   "cell_type": "markdown",
   "id": "5e445c10",
   "metadata": {},
   "source": [
    "### Source"
   ]
  },
  {
   "cell_type": "markdown",
   "id": "0296cb29",
   "metadata": {},
   "source": [
    "This dataset is provided to the public from the FBI on their FBI Crime Data Explorer website. It can be found here – https://crime-data-explorer.fr.cloud.gov/pages/downloads under master file downloads + hate crime filter. "
   ]
  },
  {
   "cell_type": "markdown",
   "id": "dd0d676a",
   "metadata": {},
   "source": [
    "### FBI Hate Crime Description / Definition"
   ]
  },
  {
   "cell_type": "markdown",
   "id": "e14ce4e4",
   "metadata": {},
   "source": [
    "The FBI considers crimes which are motivated in whole or in part by bias against a race, gender, gender identity, religion, disability, sexual orientation, or ethnicity to be classified as hate crimes. The presence of bias by an offender alone does not constitute a hate crime, as it must be shown through investigation that the particular crime was motivated by said bias."
   ]
  },
  {
   "cell_type": "markdown",
   "id": "b1e57642",
   "metadata": {},
   "source": [
    "### Limitations"
   ]
  },
  {
   "cell_type": "markdown",
   "id": "dd1faa58",
   "metadata": {},
   "source": [
    "This data is collected by the FBI through local law enforcement agencies. It must be understood by anyone analyzing or looking at the analysis of the data that the data does not represent law enforcement effectiveness. In addition, different states' local agencies had different levels of participation in the Uniform Crime Report over time, and therefore there may be some inherent exclusions of hate crimes which were not reported by local agencies.\n",
    "\n",
    "Moreover, it is important to remember that due to the nature of hate crimes, victims are often part of marginalized communities. Therefore, many hate crimes are unreported by the victims due to fear of re-victimization or retaliation. Thus, there may be additional shortcomings from the analysis of the data as a true representation of all hate crime across the United States."
   ]
  },
  {
   "cell_type": "markdown",
   "id": "b9b3da2a",
   "metadata": {},
   "source": [
    "### Feature Description"
   ]
  },
  {
   "cell_type": "markdown",
   "id": "a911fb7f",
   "metadata": {},
   "source": [
    "This dataset is sourced from FBI data from the Uniform Crime Report statistics across the U.S. from 1991-2001. The data includes the following features - incident id, year, ORI (agency origin ID), public agency name, agency type (city, county, state, etc), state abbreviation, state name, division name, region name, population group id, popultaion group, incident date, adult victims, juvenile victims, total offenders, adult offenders, juvenile offenders, offender race, offender ethnicity, victim count, offense name, total individual victims, location name, bias description, victim types, multiple offense, and mulitple bias. "
   ]
  },
  {
   "cell_type": "markdown",
   "id": "eec6e975",
   "metadata": {},
   "source": [
    "## Initial Assessments"
   ]
  },
  {
   "cell_type": "markdown",
   "id": "895d5fda",
   "metadata": {},
   "source": []
  },
  {
   "cell_type": "markdown",
   "id": "f0210ec2",
   "metadata": {},
   "source": [
    "### Visual Assessment "
   ]
  },
  {
   "cell_type": "code",
   "execution_count": null,
   "id": "35737a50",
   "metadata": {},
   "outputs": [],
   "source": []
  },
  {
   "cell_type": "markdown",
   "id": "d19e80f1",
   "metadata": {},
   "source": [
    "### Programmatic Assessment"
   ]
  },
  {
   "cell_type": "code",
   "execution_count": null,
   "id": "c0a5b74d",
   "metadata": {},
   "outputs": [],
   "source": []
  },
  {
   "cell_type": "markdown",
   "id": "7e8065db",
   "metadata": {},
   "source": [
    "### Data Cleaning Plan"
   ]
  },
  {
   "cell_type": "markdown",
   "id": "89dd99d1",
   "metadata": {},
   "source": []
  }
 ],
 "metadata": {
  "kernelspec": {
   "display_name": "Python 3 (ipykernel)",
   "language": "python",
   "name": "python3"
  },
  "language_info": {
   "codemirror_mode": {
    "name": "ipython",
    "version": 3
   },
   "file_extension": ".py",
   "mimetype": "text/x-python",
   "name": "python",
   "nbconvert_exporter": "python",
   "pygments_lexer": "ipython3",
   "version": "3.9.7"
  }
 },
 "nbformat": 4,
 "nbformat_minor": 5
}
