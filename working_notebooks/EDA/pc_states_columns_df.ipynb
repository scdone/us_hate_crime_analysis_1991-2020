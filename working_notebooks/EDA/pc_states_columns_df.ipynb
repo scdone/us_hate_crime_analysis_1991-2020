{
 "cells": [
  {
   "cell_type": "code",
   "execution_count": 1,
   "id": "6936b2c0",
   "metadata": {},
   "outputs": [],
   "source": [
    "import pandas as pd"
   ]
  },
  {
   "cell_type": "code",
   "execution_count": 21,
   "id": "9bc2855a",
   "metadata": {},
   "outputs": [],
   "source": [
    "df_2000 = pd.read_csv(r\"C:\\Users\\14802\\Desktop\\hate-crime analysis\\datasets\\per_capita_2000.csv\")\n",
    "df_2001 = pd.read_csv(r\"C:\\Users\\14802\\Desktop\\hate-crime analysis\\datasets\\per_capita_2001.csv\")\n",
    "df_2002 = pd.read_csv(r\"C:\\Users\\14802\\Desktop\\hate-crime analysis\\datasets\\per_capita_2002.csv\")\n",
    "df_2003 = pd.read_csv(r\"C:\\Users\\14802\\Desktop\\hate-crime analysis\\datasets\\per_capita_2003.csv\")\n",
    "df_2004 = pd.read_csv(r\"C:\\Users\\14802\\Desktop\\hate-crime analysis\\datasets\\per_capita_2004.csv\")\n",
    "df_2005 = pd.read_csv(r\"C:\\Users\\14802\\Desktop\\hate-crime analysis\\datasets\\per_capita_2005.csv\")\n",
    "df_2006 = pd.read_csv(r\"C:\\Users\\14802\\Desktop\\hate-crime analysis\\datasets\\per_capita_2006.csv\")\n",
    "df_2007 = pd.read_csv(r\"C:\\Users\\14802\\Desktop\\hate-crime analysis\\datasets\\per_capita_2007.csv\")\n",
    "df_2008 = pd.read_csv(r\"C:\\Users\\14802\\Desktop\\hate-crime analysis\\datasets\\per_capita_2008.csv\")\n",
    "df_2009 = pd.read_csv(r\"C:\\Users\\14802\\Desktop\\hate-crime analysis\\datasets\\per_capita_2009.csv\")\n",
    "df_2010 = pd.read_csv(r\"C:\\Users\\14802\\Desktop\\hate-crime analysis\\datasets\\per_capita_2010.csv\")\n",
    "df_2011 = pd.read_csv(r\"C:\\Users\\14802\\Desktop\\hate-crime analysis\\datasets\\per_capita_2011.csv\")\n",
    "df_2012 = pd.read_csv(r\"C:\\Users\\14802\\Desktop\\hate-crime analysis\\datasets\\per_capita_2012.csv\")\n",
    "df_2013 = pd.read_csv(r\"C:\\Users\\14802\\Desktop\\hate-crime analysis\\datasets\\per_capita_2013.csv\")\n",
    "df_2014 = pd.read_csv(r\"C:\\Users\\14802\\Desktop\\hate-crime analysis\\datasets\\per_capita_2014.csv\")\n",
    "df_2015 = pd.read_csv(r\"C:\\Users\\14802\\Desktop\\hate-crime analysis\\datasets\\per_capita_2015.csv\")\n",
    "df_2016 = pd.read_csv(r\"C:\\Users\\14802\\Desktop\\hate-crime analysis\\datasets\\per_capita_2016.csv\")\n",
    "df_2017 = pd.read_csv(r\"C:\\Users\\14802\\Desktop\\hate-crime analysis\\datasets\\per_capita_2017.csv\")\n",
    "df_2018 = pd.read_csv(r\"C:\\Users\\14802\\Desktop\\hate-crime analysis\\datasets\\per_capita_2018.csv\")\n",
    "df_2019 = pd.read_csv(r\"C:\\Users\\14802\\Desktop\\hate-crime analysis\\datasets\\per_capita_2019.csv\")\n",
    "df_2020 = pd.read_csv(r\"C:\\Users\\14802\\Desktop\\hate-crime analysis\\datasets\\per_capita_2020.csv\")"
   ]
  },
  {
   "cell_type": "code",
   "execution_count": 22,
   "id": "cfa7dbde",
   "metadata": {},
   "outputs": [],
   "source": [
    "state_list = df_2000.state.tolist()"
   ]
  },
  {
   "cell_type": "code",
   "execution_count": 23,
   "id": "4cbdc0fb",
   "metadata": {},
   "outputs": [],
   "source": [
    "transposed_2000 = df_2000[['state','total_incidents_per_capita']].transpose()\n",
    "transposed_2000.rename(index={'total_incidents_per_capita':'2000'}, inplace=True)\n",
    "transposed_2000.columns = state_list\n",
    "transposed_2000.drop(index=['state'], inplace=True)"
   ]
  },
  {
   "cell_type": "code",
   "execution_count": null,
   "id": "6e8aa89e",
   "metadata": {},
   "outputs": [],
   "source": [
    "transposed_2001 = df_2001.transpose()\n",
    "transposed_2001.rename(index={'total_incidents_per_capita':'2001'}, inplace=True)\n",
    "transposed_2001.columns = state_list\n",
    "transposed_2001.drop(index=['state'], inplace=True)"
   ]
  },
  {
   "cell_type": "code",
   "execution_count": null,
   "id": "c524e88c",
   "metadata": {},
   "outputs": [],
   "source": [
    "transposed_2002 = df_2002.transpose()\n",
    "transposed_2002.rename(index={'total_incidents_per_capita':'2002'}, inplace=True)\n",
    "transposed_2002.columns = state_list\n",
    "transposed_2002.drop(index=['state'], inplace=True)"
   ]
  },
  {
   "cell_type": "code",
   "execution_count": null,
   "id": "ec4c6dfc",
   "metadata": {},
   "outputs": [],
   "source": [
    "transposed_x = df_x.transpose()\n",
    "transposed_x.rename(index={'total_incidents_per_capita':'x'}, inplace=True)\n",
    "transposed_x.columns = state_list\n",
    "transposed_x.drop(index=['state'], inplace=True)"
   ]
  },
  {
   "cell_type": "code",
   "execution_count": null,
   "id": "4d651256",
   "metadata": {},
   "outputs": [],
   "source": [
    "transposed_x = df_x.transpose()\n",
    "transposed_x.rename(index={'total_incidents_per_capita':'x'}, inplace=True)\n",
    "transposed_x.columns = state_list\n",
    "transposed_x.drop(index=['state'], inplace=True)"
   ]
  },
  {
   "cell_type": "code",
   "execution_count": null,
   "id": "e0903d0b",
   "metadata": {},
   "outputs": [],
   "source": [
    "transposed_x = df_x.transpose()\n",
    "transposed_x.rename(index={'total_incidents_per_capita':'x'}, inplace=True)\n",
    "transposed_x.columns = state_list\n",
    "transposed_x.drop(index=['state'], inplace=True)"
   ]
  },
  {
   "cell_type": "code",
   "execution_count": null,
   "id": "3732907c",
   "metadata": {},
   "outputs": [],
   "source": [
    "transposed_x = df_x.transpose()\n",
    "transposed_x.rename(index={'total_incidents_per_capita':'x'}, inplace=True)\n",
    "transposed_x.columns = state_list\n",
    "transposed_x.drop(index=['state'], inplace=True)"
   ]
  },
  {
   "cell_type": "code",
   "execution_count": null,
   "id": "559935a3",
   "metadata": {},
   "outputs": [],
   "source": [
    "transposed_x = df_x.transpose()\n",
    "transposed_x.rename(index={'total_incidents_per_capita':'x'}, inplace=True)\n",
    "transposed_x.columns = state_list\n",
    "transposed_x.drop(index=['state'], inplace=True)"
   ]
  },
  {
   "cell_type": "code",
   "execution_count": null,
   "id": "3cb41194",
   "metadata": {},
   "outputs": [],
   "source": [
    "transposed_x = df_x.transpose()\n",
    "transposed_x.rename(index={'total_incidents_per_capita':'x'}, inplace=True)\n",
    "transposed_x.columns = state_list\n",
    "transposed_x.drop(index=['state'], inplace=True)"
   ]
  },
  {
   "cell_type": "code",
   "execution_count": null,
   "id": "aaa6bf4b",
   "metadata": {},
   "outputs": [],
   "source": [
    "transposed_x = df_x.transpose()\n",
    "transposed_x.rename(index={'total_incidents_per_capita':'x'}, inplace=True)\n",
    "transposed_x.columns = state_list\n",
    "transposed_x.drop(index=['state'], inplace=True)"
   ]
  },
  {
   "cell_type": "code",
   "execution_count": null,
   "id": "811a6f7e",
   "metadata": {},
   "outputs": [],
   "source": [
    "transposed_x = df_x.transpose()\n",
    "transposed_x.rename(index={'total_incidents_per_capita':'x'}, inplace=True)\n",
    "transposed_x.columns = state_list\n",
    "transposed_x.drop(index=['state'], inplace=True)"
   ]
  },
  {
   "cell_type": "code",
   "execution_count": null,
   "id": "5c9bfb29",
   "metadata": {},
   "outputs": [],
   "source": [
    "transposed_x = df_x.transpose()\n",
    "transposed_x.rename(index={'total_incidents_per_capita':'x'}, inplace=True)\n",
    "transposed_x.columns = state_list\n",
    "transposed_x.drop(index=['state'], inplace=True)"
   ]
  },
  {
   "cell_type": "code",
   "execution_count": null,
   "id": "e36ddac1",
   "metadata": {},
   "outputs": [],
   "source": [
    "transposed_x = df_x.transpose()\n",
    "transposed_x.rename(index={'total_incidents_per_capita':'x'}, inplace=True)\n",
    "transposed_x.columns = state_list\n",
    "transposed_x.drop(index=['state'], inplace=True)"
   ]
  },
  {
   "cell_type": "code",
   "execution_count": null,
   "id": "92ef99fa",
   "metadata": {},
   "outputs": [],
   "source": [
    "transposed_x = df_x.transpose()\n",
    "transposed_x.rename(index={'total_incidents_per_capita':'x'}, inplace=True)\n",
    "transposed_x.columns = state_list\n",
    "transposed_x.drop(index=['state'], inplace=True)"
   ]
  },
  {
   "cell_type": "code",
   "execution_count": null,
   "id": "c9310dfa",
   "metadata": {},
   "outputs": [],
   "source": [
    "transposed_x = df_x.transpose()\n",
    "transposed_x.rename(index={'total_incidents_per_capita':'x'}, inplace=True)\n",
    "transposed_x.columns = state_list\n",
    "transposed_x.drop(index=['state'], inplace=True)"
   ]
  },
  {
   "cell_type": "code",
   "execution_count": null,
   "id": "87dfe4aa",
   "metadata": {},
   "outputs": [],
   "source": [
    "transposed_x = df_x.transpose()\n",
    "transposed_x.rename(index={'total_incidents_per_capita':'x'}, inplace=True)\n",
    "transposed_x.columns = state_list\n",
    "transposed_x.drop(index=['state'], inplace=True)"
   ]
  },
  {
   "cell_type": "code",
   "execution_count": null,
   "id": "098d5ef5",
   "metadata": {},
   "outputs": [],
   "source": [
    "transposed_x = df_x.transpose()\n",
    "transposed_x.rename(index={'total_incidents_per_capita':'x'}, inplace=True)\n",
    "transposed_x.columns = state_list\n",
    "transposed_x.drop(index=['state'], inplace=True)"
   ]
  },
  {
   "cell_type": "code",
   "execution_count": null,
   "id": "c0b470ff",
   "metadata": {},
   "outputs": [],
   "source": [
    "transposed_x = df_x.transpose()\n",
    "transposed_x.rename(index={'total_incidents_per_capita':'x'}, inplace=True)\n",
    "transposed_x.columns = state_list\n",
    "transposed_x.drop(index=['state'], inplace=True)"
   ]
  },
  {
   "cell_type": "code",
   "execution_count": null,
   "id": "ba2f6a9b",
   "metadata": {},
   "outputs": [],
   "source": [
    "transposed_x = df_x.transpose()\n",
    "transposed_x.rename(index={'total_incidents_per_capita':'x'}, inplace=True)\n",
    "transposed_x.columns = state_list\n",
    "transposed_x.drop(index=['state'], inplace=True)"
   ]
  },
  {
   "cell_type": "code",
   "execution_count": null,
   "id": "a2a04a62",
   "metadata": {},
   "outputs": [],
   "source": [
    "transposed_x = df_x.transpose()\n",
    "transposed_x.rename(index={'total_incidents_per_capita':'x'}, inplace=True)\n",
    "transposed_x.columns = state_list\n",
    "transposed_x.drop(index=['state'], inplace=True)"
   ]
  },
  {
   "cell_type": "code",
   "execution_count": null,
   "id": "e59122dd",
   "metadata": {},
   "outputs": [],
   "source": [
    "transposed_x = df_x.transpose()\n",
    "transposed_x.rename(index={'total_incidents_per_capita':'x'}, inplace=True)\n",
    "transposed_x.columns = state_list\n",
    "transposed_x.drop(index=['state'], inplace=True)"
   ]
  },
  {
   "cell_type": "code",
   "execution_count": null,
   "id": "7fcb8506",
   "metadata": {},
   "outputs": [],
   "source": []
  },
  {
   "cell_type": "code",
   "execution_count": null,
   "id": "0dc8efb8",
   "metadata": {},
   "outputs": [],
   "source": []
  }
 ],
 "metadata": {
  "kernelspec": {
   "display_name": "Python 3 (ipykernel)",
   "language": "python",
   "name": "python3"
  },
  "language_info": {
   "codemirror_mode": {
    "name": "ipython",
    "version": 3
   },
   "file_extension": ".py",
   "mimetype": "text/x-python",
   "name": "python",
   "nbconvert_exporter": "python",
   "pygments_lexer": "ipython3",
   "version": "3.9.7"
  }
 },
 "nbformat": 4,
 "nbformat_minor": 5
}
