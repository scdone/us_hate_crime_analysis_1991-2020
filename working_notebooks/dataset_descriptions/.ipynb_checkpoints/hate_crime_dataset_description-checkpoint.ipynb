{
 "cells": [
  {
   "cell_type": "markdown",
   "id": "99bbbff5",
   "metadata": {},
   "source": [
    "# FBI U.S. Hate Crime Data"
   ]
  },
  {
   "cell_type": "markdown",
   "id": "59d62fb6",
   "metadata": {},
   "source": [
    "## Dataset Description and Initial Wrangling/Cleaning"
   ]
  },
  {
   "cell_type": "markdown",
   "id": "34178628",
   "metadata": {},
   "source": [
    "### Overview"
   ]
  },
  {
   "cell_type": "markdown",
   "id": "84e553b3",
   "metadata": {},
   "source": [
    "This dataset has data from the FBI on hate crimes committed in the U.S. from 1991 - 2020. "
   ]
  },
  {
   "cell_type": "markdown",
   "id": "68b63c41",
   "metadata": {},
   "source": [
    "### Source"
   ]
  },
  {
   "cell_type": "markdown",
   "id": "2ebab886",
   "metadata": {},
   "source": [
    "This dataset is provided to the public from the FBI on their FBI Crime Data Explorer website. It can be found here – https://crime-data-explorer.fr.cloud.gov/pages/downloads under master file downloads + hate crime filter. "
   ]
  },
  {
   "cell_type": "markdown",
   "id": "f6b470bb",
   "metadata": {},
   "source": [
    "### FBI Hate Crime Description / Definition"
   ]
  },
  {
   "cell_type": "markdown",
   "id": "a1355496",
   "metadata": {},
   "source": [
    "The FBI considers crimes which are motivated in whole or in part by bias against a race, gender, gender identity, religion, disability, sexual orientation, or ethnicity to be classified as hate crimes. The presence of bias by an offender alone does not constitute a hate crime, as it must be shown through investigation that the particular crime was motivated by said bias."
   ]
  },
  {
   "cell_type": "markdown",
   "id": "4f1412ee",
   "metadata": {},
   "source": [
    "### Limitations"
   ]
  },
  {
   "cell_type": "markdown",
   "id": "b5433f58",
   "metadata": {},
   "source": [
    "This data is collected by the FBI through local law enforcement agencies. It must be understood by anyone analyzing or looking at the analysis of the data that the data does not represent law enforcement effectiveness. In addition, different states' local agencies had different levels of participation in the Uniform Crime Report over time, and therefore there may be some inherent exclusions of hate crimes which were not reported by local agencies.\n",
    "\n",
    "Moreover, it is important to remember that due to the nature of hate crimes, victims are often part of marginalized communities. Therefore, many hate crimes are unreported by the victims due to fear of re-victimization or retaliation. Thus, there may be additional shortcomings from the analysis of the data as a true representation of all hate crime across the United States."
   ]
  },
  {
   "cell_type": "markdown",
   "id": "06da7107",
   "metadata": {},
   "source": [
    "### Feature Description"
   ]
  },
  {
   "cell_type": "markdown",
   "id": "060f3b0c",
   "metadata": {},
   "source": [
    "This dataset is sourced from FBI data from the Uniform Crime Report statistics across the U.S. from 1991-2001. The data includes the following features - incident id, year, ORI (agency origin ID), public agency name, agency type (city, county, state, etc), state abbreviation, state name, division name, region name, population group id, popultaion group, incident date, adult victims, juvenile victims, total offenders, adult offenders, juvenile offenders, offender race, offender ethnicity, victim count, offense name, total individual victims, location name, bias description, victim types, multiple offense, and mulitple bias. "
   ]
  },
  {
   "cell_type": "markdown",
   "id": "df382f70",
   "metadata": {},
   "source": [
    "## Initial Assessment"
   ]
  },
  {
   "cell_type": "markdown",
   "id": "b16cc14a",
   "metadata": {},
   "source": [
    "Below, I'll conduct an initial assessment on any necessary cleaning or transformation needed for the dataset before conducting the analysis. "
   ]
  },
  {
   "cell_type": "code",
   "execution_count": 7,
   "id": "3122469a",
   "metadata": {},
   "outputs": [],
   "source": [
    "# imports pandas for loading and manipulating data\n",
    "import pandas as pd\n",
    "\n",
    "# sets all columns to be visible in notebook\n",
    "pd.set_option('display.max_columns', None)"
   ]
  },
  {
   "cell_type": "code",
   "execution_count": 8,
   "id": "27834309",
   "metadata": {},
   "outputs": [],
   "source": [
    "df = pd.read_csv(r\"C:\\Users\\14802\\Desktop\\hate-crime analysis\\datasets\\hate_crime.csv\", low_memory=False)"
   ]
  },
  {
   "cell_type": "code",
   "execution_count": 9,
   "id": "8f5d58c1",
   "metadata": {},
   "outputs": [
    {
     "data": {
      "text/html": [
       "<div>\n",
       "<style scoped>\n",
       "    .dataframe tbody tr th:only-of-type {\n",
       "        vertical-align: middle;\n",
       "    }\n",
       "\n",
       "    .dataframe tbody tr th {\n",
       "        vertical-align: top;\n",
       "    }\n",
       "\n",
       "    .dataframe thead th {\n",
       "        text-align: right;\n",
       "    }\n",
       "</style>\n",
       "<table border=\"1\" class=\"dataframe\">\n",
       "  <thead>\n",
       "    <tr style=\"text-align: right;\">\n",
       "      <th></th>\n",
       "      <th>INCIDENT_ID</th>\n",
       "      <th>DATA_YEAR</th>\n",
       "      <th>ORI</th>\n",
       "      <th>PUB_AGENCY_NAME</th>\n",
       "      <th>PUB_AGENCY_UNIT</th>\n",
       "      <th>AGENCY_TYPE_NAME</th>\n",
       "      <th>STATE_ABBR</th>\n",
       "      <th>STATE_NAME</th>\n",
       "      <th>DIVISION_NAME</th>\n",
       "      <th>REGION_NAME</th>\n",
       "      <th>POPULATION_GROUP_CODE</th>\n",
       "      <th>POPULATION_GROUP_DESC</th>\n",
       "      <th>INCIDENT_DATE</th>\n",
       "      <th>ADULT_VICTIM_COUNT</th>\n",
       "      <th>JUVENILE_VICTIM_COUNT</th>\n",
       "      <th>TOTAL_OFFENDER_COUNT</th>\n",
       "      <th>ADULT_OFFENDER_COUNT</th>\n",
       "      <th>JUVENILE_OFFENDER_COUNT</th>\n",
       "      <th>OFFENDER_RACE</th>\n",
       "      <th>OFFENDER_ETHNICITY</th>\n",
       "      <th>VICTIM_COUNT</th>\n",
       "      <th>OFFENSE_NAME</th>\n",
       "      <th>TOTAL_INDIVIDUAL_VICTIMS</th>\n",
       "      <th>LOCATION_NAME</th>\n",
       "      <th>BIAS_DESC</th>\n",
       "      <th>VICTIM_TYPES</th>\n",
       "      <th>MULTIPLE_OFFENSE</th>\n",
       "      <th>MULTIPLE_BIAS</th>\n",
       "    </tr>\n",
       "  </thead>\n",
       "  <tbody>\n",
       "    <tr>\n",
       "      <th>0</th>\n",
       "      <td>3015</td>\n",
       "      <td>1991</td>\n",
       "      <td>AR0040200</td>\n",
       "      <td>Rogers</td>\n",
       "      <td>NaN</td>\n",
       "      <td>City</td>\n",
       "      <td>AR</td>\n",
       "      <td>Arkansas</td>\n",
       "      <td>West South Central</td>\n",
       "      <td>South</td>\n",
       "      <td>5</td>\n",
       "      <td>Cities from 10,000 thru 24,999</td>\n",
       "      <td>31-AUG-91</td>\n",
       "      <td>NaN</td>\n",
       "      <td>NaN</td>\n",
       "      <td>1</td>\n",
       "      <td>NaN</td>\n",
       "      <td>NaN</td>\n",
       "      <td>White</td>\n",
       "      <td>NaN</td>\n",
       "      <td>1</td>\n",
       "      <td>Intimidation</td>\n",
       "      <td>1.0</td>\n",
       "      <td>Highway/Road/Alley/Street/Sidewalk</td>\n",
       "      <td>Anti-Black or African American</td>\n",
       "      <td>Individual</td>\n",
       "      <td>S</td>\n",
       "      <td>S</td>\n",
       "    </tr>\n",
       "    <tr>\n",
       "      <th>1</th>\n",
       "      <td>3016</td>\n",
       "      <td>1991</td>\n",
       "      <td>AR0290100</td>\n",
       "      <td>Hope</td>\n",
       "      <td>NaN</td>\n",
       "      <td>City</td>\n",
       "      <td>AR</td>\n",
       "      <td>Arkansas</td>\n",
       "      <td>West South Central</td>\n",
       "      <td>South</td>\n",
       "      <td>6</td>\n",
       "      <td>Cities from 2,500 thru 9,999</td>\n",
       "      <td>19-SEP-91</td>\n",
       "      <td>NaN</td>\n",
       "      <td>NaN</td>\n",
       "      <td>1</td>\n",
       "      <td>NaN</td>\n",
       "      <td>NaN</td>\n",
       "      <td>Black or African American</td>\n",
       "      <td>NaN</td>\n",
       "      <td>1</td>\n",
       "      <td>Simple Assault</td>\n",
       "      <td>1.0</td>\n",
       "      <td>Highway/Road/Alley/Street/Sidewalk</td>\n",
       "      <td>Anti-White</td>\n",
       "      <td>Individual</td>\n",
       "      <td>S</td>\n",
       "      <td>S</td>\n",
       "    </tr>\n",
       "    <tr>\n",
       "      <th>2</th>\n",
       "      <td>43</td>\n",
       "      <td>1991</td>\n",
       "      <td>AR0350100</td>\n",
       "      <td>Pine Bluff</td>\n",
       "      <td>NaN</td>\n",
       "      <td>City</td>\n",
       "      <td>AR</td>\n",
       "      <td>Arkansas</td>\n",
       "      <td>West South Central</td>\n",
       "      <td>South</td>\n",
       "      <td>3</td>\n",
       "      <td>Cities from 50,000 thru 99,999</td>\n",
       "      <td>04-JUL-91</td>\n",
       "      <td>NaN</td>\n",
       "      <td>NaN</td>\n",
       "      <td>1</td>\n",
       "      <td>NaN</td>\n",
       "      <td>NaN</td>\n",
       "      <td>Black or African American</td>\n",
       "      <td>NaN</td>\n",
       "      <td>1</td>\n",
       "      <td>Aggravated Assault</td>\n",
       "      <td>1.0</td>\n",
       "      <td>Residence/Home</td>\n",
       "      <td>Anti-Black or African American</td>\n",
       "      <td>Individual</td>\n",
       "      <td>S</td>\n",
       "      <td>S</td>\n",
       "    </tr>\n",
       "    <tr>\n",
       "      <th>3</th>\n",
       "      <td>44</td>\n",
       "      <td>1991</td>\n",
       "      <td>AR0350100</td>\n",
       "      <td>Pine Bluff</td>\n",
       "      <td>NaN</td>\n",
       "      <td>City</td>\n",
       "      <td>AR</td>\n",
       "      <td>Arkansas</td>\n",
       "      <td>West South Central</td>\n",
       "      <td>South</td>\n",
       "      <td>3</td>\n",
       "      <td>Cities from 50,000 thru 99,999</td>\n",
       "      <td>24-DEC-91</td>\n",
       "      <td>NaN</td>\n",
       "      <td>NaN</td>\n",
       "      <td>1</td>\n",
       "      <td>NaN</td>\n",
       "      <td>NaN</td>\n",
       "      <td>Black or African American</td>\n",
       "      <td>NaN</td>\n",
       "      <td>2</td>\n",
       "      <td>Aggravated Assault;Destruction/Damage/Vandalis...</td>\n",
       "      <td>1.0</td>\n",
       "      <td>Highway/Road/Alley/Street/Sidewalk</td>\n",
       "      <td>Anti-White</td>\n",
       "      <td>Individual</td>\n",
       "      <td>M</td>\n",
       "      <td>S</td>\n",
       "    </tr>\n",
       "    <tr>\n",
       "      <th>4</th>\n",
       "      <td>3017</td>\n",
       "      <td>1991</td>\n",
       "      <td>AR0350100</td>\n",
       "      <td>Pine Bluff</td>\n",
       "      <td>NaN</td>\n",
       "      <td>City</td>\n",
       "      <td>AR</td>\n",
       "      <td>Arkansas</td>\n",
       "      <td>West South Central</td>\n",
       "      <td>South</td>\n",
       "      <td>3</td>\n",
       "      <td>Cities from 50,000 thru 99,999</td>\n",
       "      <td>23-DEC-91</td>\n",
       "      <td>NaN</td>\n",
       "      <td>NaN</td>\n",
       "      <td>1</td>\n",
       "      <td>NaN</td>\n",
       "      <td>NaN</td>\n",
       "      <td>Black or African American</td>\n",
       "      <td>NaN</td>\n",
       "      <td>1</td>\n",
       "      <td>Aggravated Assault</td>\n",
       "      <td>1.0</td>\n",
       "      <td>Service/Gas Station</td>\n",
       "      <td>Anti-White</td>\n",
       "      <td>Individual</td>\n",
       "      <td>S</td>\n",
       "      <td>S</td>\n",
       "    </tr>\n",
       "  </tbody>\n",
       "</table>\n",
       "</div>"
      ],
      "text/plain": [
       "   INCIDENT_ID  DATA_YEAR        ORI PUB_AGENCY_NAME PUB_AGENCY_UNIT  \\\n",
       "0         3015       1991  AR0040200          Rogers             NaN   \n",
       "1         3016       1991  AR0290100            Hope             NaN   \n",
       "2           43       1991  AR0350100      Pine Bluff             NaN   \n",
       "3           44       1991  AR0350100      Pine Bluff             NaN   \n",
       "4         3017       1991  AR0350100      Pine Bluff             NaN   \n",
       "\n",
       "  AGENCY_TYPE_NAME STATE_ABBR STATE_NAME       DIVISION_NAME REGION_NAME  \\\n",
       "0             City         AR   Arkansas  West South Central       South   \n",
       "1             City         AR   Arkansas  West South Central       South   \n",
       "2             City         AR   Arkansas  West South Central       South   \n",
       "3             City         AR   Arkansas  West South Central       South   \n",
       "4             City         AR   Arkansas  West South Central       South   \n",
       "\n",
       "  POPULATION_GROUP_CODE           POPULATION_GROUP_DESC INCIDENT_DATE  \\\n",
       "0                     5  Cities from 10,000 thru 24,999     31-AUG-91   \n",
       "1                     6    Cities from 2,500 thru 9,999     19-SEP-91   \n",
       "2                     3  Cities from 50,000 thru 99,999     04-JUL-91   \n",
       "3                     3  Cities from 50,000 thru 99,999     24-DEC-91   \n",
       "4                     3  Cities from 50,000 thru 99,999     23-DEC-91   \n",
       "\n",
       "   ADULT_VICTIM_COUNT  JUVENILE_VICTIM_COUNT  TOTAL_OFFENDER_COUNT  \\\n",
       "0                 NaN                    NaN                     1   \n",
       "1                 NaN                    NaN                     1   \n",
       "2                 NaN                    NaN                     1   \n",
       "3                 NaN                    NaN                     1   \n",
       "4                 NaN                    NaN                     1   \n",
       "\n",
       "   ADULT_OFFENDER_COUNT  JUVENILE_OFFENDER_COUNT              OFFENDER_RACE  \\\n",
       "0                   NaN                      NaN                      White   \n",
       "1                   NaN                      NaN  Black or African American   \n",
       "2                   NaN                      NaN  Black or African American   \n",
       "3                   NaN                      NaN  Black or African American   \n",
       "4                   NaN                      NaN  Black or African American   \n",
       "\n",
       "  OFFENDER_ETHNICITY  VICTIM_COUNT  \\\n",
       "0                NaN             1   \n",
       "1                NaN             1   \n",
       "2                NaN             1   \n",
       "3                NaN             2   \n",
       "4                NaN             1   \n",
       "\n",
       "                                        OFFENSE_NAME  \\\n",
       "0                                       Intimidation   \n",
       "1                                     Simple Assault   \n",
       "2                                 Aggravated Assault   \n",
       "3  Aggravated Assault;Destruction/Damage/Vandalis...   \n",
       "4                                 Aggravated Assault   \n",
       "\n",
       "   TOTAL_INDIVIDUAL_VICTIMS                       LOCATION_NAME  \\\n",
       "0                       1.0  Highway/Road/Alley/Street/Sidewalk   \n",
       "1                       1.0  Highway/Road/Alley/Street/Sidewalk   \n",
       "2                       1.0                      Residence/Home   \n",
       "3                       1.0  Highway/Road/Alley/Street/Sidewalk   \n",
       "4                       1.0                 Service/Gas Station   \n",
       "\n",
       "                        BIAS_DESC VICTIM_TYPES MULTIPLE_OFFENSE MULTIPLE_BIAS  \n",
       "0  Anti-Black or African American   Individual                S             S  \n",
       "1                      Anti-White   Individual                S             S  \n",
       "2  Anti-Black or African American   Individual                S             S  \n",
       "3                      Anti-White   Individual                M             S  \n",
       "4                      Anti-White   Individual                S             S  "
      ]
     },
     "execution_count": 9,
     "metadata": {},
     "output_type": "execute_result"
    }
   ],
   "source": [
    "df.head()"
   ]
  },
  {
   "cell_type": "code",
   "execution_count": 10,
   "id": "c929dba0",
   "metadata": {},
   "outputs": [
    {
     "name": "stdout",
     "output_type": "stream",
     "text": [
      "<class 'pandas.core.frame.DataFrame'>\n",
      "RangeIndex: 219577 entries, 0 to 219576\n",
      "Data columns (total 28 columns):\n",
      " #   Column                    Non-Null Count   Dtype  \n",
      "---  ------                    --------------   -----  \n",
      " 0   INCIDENT_ID               219577 non-null  int64  \n",
      " 1   DATA_YEAR                 219577 non-null  int64  \n",
      " 2   ORI                       219577 non-null  object \n",
      " 3   PUB_AGENCY_NAME           219577 non-null  object \n",
      " 4   PUB_AGENCY_UNIT           6431 non-null    object \n",
      " 5   AGENCY_TYPE_NAME          219577 non-null  object \n",
      " 6   STATE_ABBR                219577 non-null  object \n",
      " 7   STATE_NAME                219577 non-null  object \n",
      " 8   DIVISION_NAME             219577 non-null  object \n",
      " 9   REGION_NAME               219577 non-null  object \n",
      " 10  POPULATION_GROUP_CODE     219577 non-null  object \n",
      " 11  POPULATION_GROUP_DESC     219577 non-null  object \n",
      " 12  INCIDENT_DATE             219577 non-null  object \n",
      " 13  ADULT_VICTIM_COUNT        51411 non-null   float64\n",
      " 14  JUVENILE_VICTIM_COUNT     49539 non-null   float64\n",
      " 15  TOTAL_OFFENDER_COUNT      219577 non-null  int64  \n",
      " 16  ADULT_OFFENDER_COUNT      47130 non-null   float64\n",
      " 17  JUVENILE_OFFENDER_COUNT   47123 non-null   float64\n",
      " 18  OFFENDER_RACE             219557 non-null  object \n",
      " 19  OFFENDER_ETHNICITY        34873 non-null   object \n",
      " 20  VICTIM_COUNT              219577 non-null  int64  \n",
      " 21  OFFENSE_NAME              219577 non-null  object \n",
      " 22  TOTAL_INDIVIDUAL_VICTIMS  216098 non-null  float64\n",
      " 23  LOCATION_NAME             219577 non-null  object \n",
      " 24  BIAS_DESC                 219577 non-null  object \n",
      " 25  VICTIM_TYPES              219577 non-null  object \n",
      " 26  MULTIPLE_OFFENSE          219577 non-null  object \n",
      " 27  MULTIPLE_BIAS             219577 non-null  object \n",
      "dtypes: float64(5), int64(4), object(19)\n",
      "memory usage: 46.9+ MB\n"
     ]
    }
   ],
   "source": [
    "df.info()"
   ]
  },
  {
   "cell_type": "markdown",
   "id": "893d52c2",
   "metadata": {},
   "source": [
    "### Data Cleaning Plan"
   ]
  },
  {
   "cell_type": "markdown",
   "id": "b8631c8a",
   "metadata": {},
   "source": [
    "- unnecessary columns for my analysis - \n",
    "    - INCIDENT_ID,\n",
    "    - ORI\n",
    "    - PUB_AGENCY_UNIT\n",
    "    - STATE_NAME\n",
    "    - POPULATION_GROUP_CODE and \n",
    "    - POPULATION_GROUP_DESC (both population columns unnecessary because we will be pulling in US census data)\n",
    "<br/>\n",
    "<br/>\n",
    "- cleaning - \n",
    "    - make columns lowercase (for preference / ease to work with)\n",
    "    - make incident_date a datetime format instead of object\n",
    "    - ADULT_VICTIM_COUNT, VICTIM_COUNT, and TOTAL_INDIVIDUAL_VICTIMS - seems redundant, I need to look into these and see if they can be consolidated into one\n",
    "<br/>\n",
    "<br/>\n",
    "- transformations - \n",
    "    - for many of the analyses I'll be using groupby year and/or state and looking at incident totals. However, I'll do this as needed and leave the original cleaned dataframe intact \n",
    "    - add some columns to track biases which I will be focusing on (for example, columns such as  \"lgbt_bias\", \"racial_bias\",\"religious_bias\" with boolean/binomials to be able to group them together without changing the original/more detailed bias description)"
   ]
  },
  {
   "cell_type": "markdown",
   "id": "38ded5f5",
   "metadata": {},
   "source": [
    "## Cleaning"
   ]
  },
  {
   "cell_type": "markdown",
   "id": "c946e5d0",
   "metadata": {},
   "source": [
    "### Define\n",
    "\n",
    "Remove unnecessary columns from dataset "
   ]
  }
 ],
 "metadata": {
  "kernelspec": {
   "display_name": "Python 3 (ipykernel)",
   "language": "python",
   "name": "python3"
  },
  "language_info": {
   "codemirror_mode": {
    "name": "ipython",
    "version": 3
   },
   "file_extension": ".py",
   "mimetype": "text/x-python",
   "name": "python",
   "nbconvert_exporter": "python",
   "pygments_lexer": "ipython3",
   "version": "3.9.7"
  }
 },
 "nbformat": 4,
 "nbformat_minor": 5
}
