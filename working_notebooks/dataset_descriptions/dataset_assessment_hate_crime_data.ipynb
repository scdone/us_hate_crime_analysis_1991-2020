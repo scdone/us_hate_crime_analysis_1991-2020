{
 "cells": [
  {
   "cell_type": "markdown",
   "id": "131c9f6d",
   "metadata": {},
   "source": [
    "# Dataset Description - U.S. Hate Crimes"
   ]
  },
  {
   "cell_type": "markdown",
   "id": "35c5b013",
   "metadata": {},
   "source": [
    "### Overview"
   ]
  },
  {
   "cell_type": "code",
   "execution_count": null,
   "id": "a560da7c",
   "metadata": {},
   "outputs": [],
   "source": []
  },
  {
   "cell_type": "code",
   "execution_count": null,
   "id": "3109c926",
   "metadata": {},
   "outputs": [],
   "source": []
  },
  {
   "cell_type": "markdown",
   "id": "50295963",
   "metadata": {},
   "source": [
    "### Source"
   ]
  },
  {
   "cell_type": "code",
   "execution_count": null,
   "id": "809e7c28",
   "metadata": {},
   "outputs": [],
   "source": []
  },
  {
   "cell_type": "markdown",
   "id": "2bc209c5",
   "metadata": {},
   "source": [
    "### Source Description"
   ]
  },
  {
   "cell_type": "code",
   "execution_count": null,
   "id": "d5b2a19d",
   "metadata": {},
   "outputs": [],
   "source": []
  },
  {
   "cell_type": "markdown",
   "id": "0c32f7ef",
   "metadata": {},
   "source": [
    "### Feature Description"
   ]
  },
  {
   "cell_type": "markdown",
   "id": "37551e21",
   "metadata": {},
   "source": [
    "This dataset is sourced from FBI data from the Uniform Crime Report statistics across the U.S. from 1991-2001. The data includes the following features - incident id, year, ORI (agency origin ID), public agency name, agency type (city, county, state, etc), state abbreviation, state name, division name, region name, population group id, popultaion group, incident date, adult victims, juvenile victims, total offenders, adult offenders, juvenile offenders, offender race, offender ethnicity, victim count, offense name, total individual victims, location name, bias description, victim types, multiple offense, and mulitple bias. "
   ]
  },
  {
   "cell_type": "markdown",
   "id": "d7744c15",
   "metadata": {},
   "source": [
    "## Initial Assessments"
   ]
  },
  {
   "cell_type": "markdown",
   "id": "d9418e23",
   "metadata": {},
   "source": [
    "### Visual Assessment "
   ]
  },
  {
   "cell_type": "code",
   "execution_count": null,
   "id": "f843e363",
   "metadata": {},
   "outputs": [],
   "source": []
  },
  {
   "cell_type": "markdown",
   "id": "ba3dde95",
   "metadata": {},
   "source": [
    "### Programmatic Assessment"
   ]
  },
  {
   "cell_type": "code",
   "execution_count": null,
   "id": "33f32dd5",
   "metadata": {},
   "outputs": [],
   "source": []
  },
  {
   "cell_type": "markdown",
   "id": "02faef5a",
   "metadata": {},
   "source": [
    "### Data Cleaning Plan"
   ]
  },
  {
   "cell_type": "code",
   "execution_count": null,
   "id": "582f934d",
   "metadata": {},
   "outputs": [],
   "source": []
  }
 ],
 "metadata": {
  "kernelspec": {
   "display_name": "Python 3 (ipykernel)",
   "language": "python",
   "name": "python3"
  },
  "language_info": {
   "codemirror_mode": {
    "name": "ipython",
    "version": 3
   },
   "file_extension": ".py",
   "mimetype": "text/x-python",
   "name": "python",
   "nbconvert_exporter": "python",
   "pygments_lexer": "ipython3",
   "version": "3.9.7"
  }
 },
 "nbformat": 4,
 "nbformat_minor": 5
}
