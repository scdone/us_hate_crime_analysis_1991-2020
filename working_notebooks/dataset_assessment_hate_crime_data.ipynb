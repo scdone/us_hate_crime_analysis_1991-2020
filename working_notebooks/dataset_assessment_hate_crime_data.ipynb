{
 "cells": [
  {
   "cell_type": "markdown",
   "id": "673ce2da",
   "metadata": {},
   "source": [
    "# Dataset Description - U.S. Hate Crimes"
   ]
  },
  {
   "cell_type": "markdown",
   "id": "310a0c7e",
   "metadata": {},
   "source": [
    "### Overview"
   ]
  },
  {
   "cell_type": "code",
   "execution_count": null,
   "id": "7e455408",
   "metadata": {},
   "outputs": [],
   "source": []
  },
  {
   "cell_type": "code",
   "execution_count": null,
   "id": "00c7c6d5",
   "metadata": {},
   "outputs": [],
   "source": []
  },
  {
   "cell_type": "markdown",
   "id": "25644e82",
   "metadata": {},
   "source": [
    "### Source"
   ]
  },
  {
   "cell_type": "code",
   "execution_count": null,
   "id": "3e7a4202",
   "metadata": {},
   "outputs": [],
   "source": []
  },
  {
   "cell_type": "markdown",
   "id": "afdc9164",
   "metadata": {},
   "source": [
    "### Source Description"
   ]
  },
  {
   "cell_type": "code",
   "execution_count": null,
   "id": "fe91edb2",
   "metadata": {},
   "outputs": [],
   "source": []
  },
  {
   "cell_type": "markdown",
   "id": "c2e0f8ad",
   "metadata": {},
   "source": [
    "### Feature Description"
   ]
  },
  {
   "cell_type": "markdown",
   "id": "616bb47e",
   "metadata": {},
   "source": [
    "This dataset is sourced from FBI data from the Uniform Crime Report statistics across the U.S. from 1991-2001. The data includes the following features - incident id, year, ORI (agency origin ID), public agency name, agency type (city, county, state, etc), state abbreviation, state name, division name, region name, population group id, popultaion group, incident date, adult victims, juvenile victims, total offenders, adult offenders, juvenile offenders, offender race, offender ethnicity, victim count, offense name, total individual victims, location name, bias description, victim types, multiple offense, and mulitple bias. "
   ]
  },
  {
   "cell_type": "markdown",
   "id": "645e10da",
   "metadata": {},
   "source": [
    "## Initial Assessments"
   ]
  },
  {
   "cell_type": "markdown",
   "id": "9842d2bc",
   "metadata": {},
   "source": [
    "### Visual Assessment "
   ]
  },
  {
   "cell_type": "code",
   "execution_count": null,
   "id": "6faf77d3",
   "metadata": {},
   "outputs": [],
   "source": []
  },
  {
   "cell_type": "markdown",
   "id": "1b9e64b8",
   "metadata": {},
   "source": [
    "### Programmatic Assessment"
   ]
  },
  {
   "cell_type": "code",
   "execution_count": null,
   "id": "4e606b92",
   "metadata": {},
   "outputs": [],
   "source": []
  },
  {
   "cell_type": "code",
   "execution_count": null,
   "id": "2c30c818",
   "metadata": {},
   "outputs": [],
   "source": [
    "### "
   ]
  }
 ],
 "metadata": {
  "kernelspec": {
   "display_name": "Python 3 (ipykernel)",
   "language": "python",
   "name": "python3"
  },
  "language_info": {
   "codemirror_mode": {
    "name": "ipython",
    "version": 3
   },
   "file_extension": ".py",
   "mimetype": "text/x-python",
   "name": "python",
   "nbconvert_exporter": "python",
   "pygments_lexer": "ipython3",
   "version": "3.9.7"
  }
 },
 "nbformat": 4,
 "nbformat_minor": 5
}
