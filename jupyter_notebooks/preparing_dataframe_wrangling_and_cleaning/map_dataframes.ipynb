{
 "cells": [
  {
   "cell_type": "code",
   "execution_count": 1,
   "id": "e578986b",
   "metadata": {},
   "outputs": [],
   "source": [
    "import pandas as pd"
   ]
  },
  {
   "cell_type": "code",
   "execution_count": 7,
   "id": "dbbd2d55",
   "metadata": {},
   "outputs": [],
   "source": [
    "df_2000 = pd.read_csv(r\"C:\\Users\\14802\\Desktop\\hate-crime analysis\\datasets\\per_capita_2000.csv\")\n",
    "df_2001 = pd.read_csv(r\"C:\\Users\\14802\\Desktop\\hate-crime analysis\\datasets\\per_capita_2001.csv\")\n",
    "df_2002 = pd.read_csv(r\"C:\\Users\\14802\\Desktop\\hate-crime analysis\\datasets\\per_capita_2002.csv\")\n",
    "df_2003 = pd.read_csv(r\"C:\\Users\\14802\\Desktop\\hate-crime analysis\\datasets\\per_capita_2003.csv\")\n",
    "df_2004 = pd.read_csv(r\"C:\\Users\\14802\\Desktop\\hate-crime analysis\\datasets\\per_capita_2004.csv\")\n",
    "df_2005 = pd.read_csv(r\"C:\\Users\\14802\\Desktop\\hate-crime analysis\\datasets\\per_capita_2005.csv\")\n",
    "df_2006 = pd.read_csv(r\"C:\\Users\\14802\\Desktop\\hate-crime analysis\\datasets\\per_capita_2006.csv\")\n",
    "df_2007 = pd.read_csv(r\"C:\\Users\\14802\\Desktop\\hate-crime analysis\\datasets\\per_capita_2007.csv\")\n",
    "df_2008 = pd.read_csv(r\"C:\\Users\\14802\\Desktop\\hate-crime analysis\\datasets\\per_capita_2008.csv\")\n",
    "df_2009 = pd.read_csv(r\"C:\\Users\\14802\\Desktop\\hate-crime analysis\\datasets\\per_capita_2009.csv\")\n",
    "df_2010 = pd.read_csv(r\"C:\\Users\\14802\\Desktop\\hate-crime analysis\\datasets\\per_capita_2010.csv\")\n",
    "df_2011 = pd.read_csv(r\"C:\\Users\\14802\\Desktop\\hate-crime analysis\\datasets\\per_capita_2011.csv\")\n",
    "df_2012 = pd.read_csv(r\"C:\\Users\\14802\\Desktop\\hate-crime analysis\\datasets\\per_capita_2012.csv\")\n",
    "df_2013 = pd.read_csv(r\"C:\\Users\\14802\\Desktop\\hate-crime analysis\\datasets\\per_capita_2013.csv\")\n",
    "df_2014 = pd.read_csv(r\"C:\\Users\\14802\\Desktop\\hate-crime analysis\\datasets\\per_capita_2014.csv\")\n",
    "df_2015 = pd.read_csv(r\"C:\\Users\\14802\\Desktop\\hate-crime analysis\\datasets\\per_capita_2015.csv\")\n",
    "df_2016 = pd.read_csv(r\"C:\\Users\\14802\\Desktop\\hate-crime analysis\\datasets\\per_capita_2016.csv\")\n",
    "df_2017 = pd.read_csv(r\"C:\\Users\\14802\\Desktop\\hate-crime analysis\\datasets\\per_capita_2017.csv\")\n",
    "df_2018 = pd.read_csv(r\"C:\\Users\\14802\\Desktop\\hate-crime analysis\\datasets\\per_capita_2018.csv\")\n",
    "df_2019 = pd.read_csv(r\"C:\\Users\\14802\\Desktop\\hate-crime analysis\\datasets\\per_capita_2019.csv\")\n",
    "df_2020 = pd.read_csv(r\"C:\\Users\\14802\\Desktop\\hate-crime analysis\\datasets\\per_capita_2020.csv\")"
   ]
  },
  {
   "cell_type": "code",
   "execution_count": 8,
   "id": "4c18f76a",
   "metadata": {},
   "outputs": [],
   "source": [
    "state_dict = {'Alabama':'AL','Alaska':'AK','Arizona':'AZ','Arkansas':'AR','California':'CA','Colorado':'CO','Connecticut':'CT','Delaware':'DE','District of Columbia':'DC','Florida':'FL','Georgia':'GA','Idaho':'ID', 'Illinois':'IL','Indiana':'IN', 'Iowa':'IA','Kansas':'KS', 'Kentucky':'KY', 'Louisiana':'LA', 'Maine':'ME', 'Maryland':'MD','Massachusetts':'MA', 'Michigan':'MI', 'Minnesota':'MN', 'Mississippi':'MS', 'Missouri':'MO', 'Montana':'MT', 'Nebraska':'NE', 'Nevada':'NV', 'New Hampshire':'NH', 'New Jersey':'NJ', 'New Mexico':'NM', 'New York':'NY', 'North Carolina':'NC', 'North Dakota':'ND', 'Ohio':'OH','Oklahoma':'OK', 'Oregon':'OR','Pennsylvania':'PA', 'Rhode Island':'RI', 'South Carolina':'SC', 'South Dakota':'SD', 'Tennessee':'TN', 'Texas':'TX', 'Utah':'UT', 'Vermont':'VT', 'Virginia':'VA', 'Washington':'WA', 'West Virginia':'WV', 'Wisconsin':'WI', 'Wyoming':'WY'}\n"
   ]
  },
  {
   "cell_type": "code",
   "execution_count": 13,
   "id": "2732771f",
   "metadata": {},
   "outputs": [],
   "source": [
    "map_2000 = df_2000.copy()\n",
    "map_2000.drop(index=[8], inplace=True)\n",
    "map_2000.replace(state_dict, inplace=True)\n",
    "map_2000.rename(columns={\"state\":\"State\", \"total_incidents_per_capita\":\"Per Capita\"}, inplace=True)\n",
    "map_2000 = map_2000[['State', 'Per Capita']]\n",
    "# map_2000.to_csv('map_2000.csv', index=False)"
   ]
  },
  {
   "cell_type": "code",
   "execution_count": 16,
   "id": "f9d410f9",
   "metadata": {},
   "outputs": [],
   "source": [
    "map_2001 = df_2001.copy()\n",
    "map_2001.drop(index=[8], inplace=True)\n",
    "map_2001.replace(state_dict, inplace=True)\n",
    "map_2001.rename(columns={\"state\":\"State\", \"total_incidents_per_capita\":\"Per Capita\"}, inplace=True)\n",
    "map_2001 = map_2001[['State', 'Per Capita']]\n",
    "# map_2001.to_csv('map_2001.csv', index=False)"
   ]
  },
  {
   "cell_type": "code",
   "execution_count": 17,
   "id": "2e215468",
   "metadata": {},
   "outputs": [],
   "source": [
    "map_2002 = df_2002.copy()\n",
    "map_2002.drop(index=[8], inplace=True)\n",
    "map_2002.replace(state_dict, inplace=True)\n",
    "map_2002.rename(columns={\"state\":\"State\", \"total_incidents_per_capita\":\"Per Capita\"}, inplace=True)\n",
    "map_2002 = map_2002[['State', 'Per Capita']]\n",
    "# map_2002.to_csv('map_2002.csv', index=False)"
   ]
  },
  {
   "cell_type": "code",
   "execution_count": 18,
   "id": "8ecf3fa0",
   "metadata": {},
   "outputs": [],
   "source": [
    "map_2003 = df_2003.copy()\n",
    "map_2003.drop(index=[8], inplace=True)\n",
    "map_2003.replace(state_dict, inplace=True)\n",
    "map_2003.rename(columns={\"state\":\"State\", \"total_incidents_per_capita\":\"Per Capita\"}, inplace=True)\n",
    "map_2003 = map_2003[['State', 'Per Capita']]\n",
    "# map_2003.to_csv('map_2003.csv', index=False)"
   ]
  },
  {
   "cell_type": "code",
   "execution_count": 19,
   "id": "cfb81a77",
   "metadata": {},
   "outputs": [],
   "source": [
    "map_2004 = df_2004.copy()\n",
    "map_2004.drop(index=[8], inplace=True)\n",
    "map_2004.replace(state_dict, inplace=True)\n",
    "map_2004.rename(columns={\"state\":\"State\", \"total_incidents_per_capita\":\"Per Capita\"}, inplace=True)\n",
    "map_2004 = map_2004[['State', 'Per Capita']]\n",
    "# map_2004.to_csv('map_2004.csv', index=False)"
   ]
  },
  {
   "cell_type": "code",
   "execution_count": 20,
   "id": "dbb263d0",
   "metadata": {},
   "outputs": [],
   "source": [
    "map_2005 = df_2005.copy()\n",
    "map_2005.drop(index=[8], inplace=True)\n",
    "map_2005.replace(state_dict, inplace=True)\n",
    "map_2005.rename(columns={\"state\":\"State\", \"total_incidents_per_capita\":\"Per Capita\"}, inplace=True)\n",
    "map_2005 = map_2005[['State', 'Per Capita']]\n",
    "# map_2005.to_csv('map_2005.csv', index=False)"
   ]
  },
  {
   "cell_type": "code",
   "execution_count": 21,
   "id": "0ff7aa4d",
   "metadata": {},
   "outputs": [],
   "source": [
    "map_2006 = df_2006.copy()\n",
    "map_2006.drop(index=[8], inplace=True)\n",
    "map_2006.replace(state_dict, inplace=True)\n",
    "map_2006.rename(columns={\"state\":\"State\", \"total_incidents_per_capita\":\"Per Capita\"}, inplace=True)\n",
    "map_2006 = map_2006[['State', 'Per Capita']]\n",
    "# map_2006.to_csv('map_2006.csv', index=False)"
   ]
  },
  {
   "cell_type": "code",
   "execution_count": 22,
   "id": "0248755b",
   "metadata": {},
   "outputs": [],
   "source": [
    "map_2007 = df_2007.copy()\n",
    "map_2007.drop(index=[8], inplace=True)\n",
    "map_2007.replace(state_dict, inplace=True)\n",
    "map_2007.rename(columns={\"state\":\"State\", \"total_incidents_per_capita\":\"Per Capita\"}, inplace=True)\n",
    "map_2007 = map_2007[['State', 'Per Capita']]\n",
    "# map_2007.to_csv('map_2007.csv', index=False)"
   ]
  },
  {
   "cell_type": "code",
   "execution_count": 23,
   "id": "32e2a8f6",
   "metadata": {},
   "outputs": [],
   "source": [
    "map_2008 = df_2008.copy()\n",
    "map_2008.drop(index=[8], inplace=True)\n",
    "map_2008.replace(state_dict, inplace=True)\n",
    "map_2008.rename(columns={\"state\":\"State\", \"total_incidents_per_capita\":\"Per Capita\"}, inplace=True)\n",
    "map_2008 = map_2008[['State', 'Per Capita']]\n",
    "# map_2008.to_csv('map_2008.csv', index=False)"
   ]
  },
  {
   "cell_type": "code",
   "execution_count": 24,
   "id": "ab2873e4",
   "metadata": {},
   "outputs": [],
   "source": [
    "map_2009 = df_2009.copy()\n",
    "map_2009.drop(index=[8], inplace=True)\n",
    "map_2009.replace(state_dict, inplace=True)\n",
    "map_2009.rename(columns={\"state\":\"State\", \"total_incidents_per_capita\":\"Per Capita\"}, inplace=True)\n",
    "map_2009 = map_2009[['State', 'Per Capita']]\n",
    "# map_2009.to_csv('map_2009.csv', index=False)"
   ]
  },
  {
   "cell_type": "code",
   "execution_count": 25,
   "id": "b803cad1",
   "metadata": {},
   "outputs": [],
   "source": [
    "map_2010 = df_2010.copy()\n",
    "map_2010.drop(index=[8], inplace=True)\n",
    "map_2010.replace(state_dict, inplace=True)\n",
    "map_2010.rename(columns={\"state\":\"State\", \"total_incidents_per_capita\":\"Per Capita\"}, inplace=True)\n",
    "map_2010 = map_2010[['State', 'Per Capita']]\n",
    "# map_2010.to_csv('map_2010.csv', index=False)"
   ]
  },
  {
   "cell_type": "code",
   "execution_count": 26,
   "id": "992a8575",
   "metadata": {},
   "outputs": [],
   "source": [
    "map_2011 = df_2011.copy()\n",
    "map_2011.drop(index=[8], inplace=True)\n",
    "map_2011.replace(state_dict, inplace=True)\n",
    "map_2011.rename(columns={\"state\":\"State\", \"total_incidents_per_capita\":\"Per Capita\"}, inplace=True)\n",
    "map_2011 = map_2011[['State', 'Per Capita']]\n",
    "# map_2011.to_csv('map_2011.csv', index=False)"
   ]
  },
  {
   "cell_type": "code",
   "execution_count": 27,
   "id": "679b2690",
   "metadata": {},
   "outputs": [],
   "source": [
    "map_2012 = df_2012.copy()\n",
    "map_2012.drop(index=[8], inplace=True)\n",
    "map_2012.replace(state_dict, inplace=True)\n",
    "map_2012.rename(columns={\"state\":\"State\", \"total_incidents_per_capita\":\"Per Capita\"}, inplace=True)\n",
    "map_2012 = map_2012[['State', 'Per Capita']]\n",
    "# map_2012.to_csv('map_2012.csv', index=False)"
   ]
  },
  {
   "cell_type": "code",
   "execution_count": 28,
   "id": "b5eea4e2",
   "metadata": {},
   "outputs": [],
   "source": [
    "map_2013 = df_2013.copy()\n",
    "map_2013.drop(index=[8], inplace=True)\n",
    "map_2013.replace(state_dict, inplace=True)\n",
    "map_2013.rename(columns={\"state\":\"State\", \"total_incidents_per_capita\":\"Per Capita\"}, inplace=True)\n",
    "map_2013 = map_2013[['State', 'Per Capita']]\n",
    "# map_2013.to_csv('map_2013.csv', index=False)"
   ]
  },
  {
   "cell_type": "code",
   "execution_count": 29,
   "id": "c6752c62",
   "metadata": {},
   "outputs": [],
   "source": [
    "map_2014 = df_2014.copy()\n",
    "map_2014.drop(index=[8], inplace=True)\n",
    "map_2014.replace(state_dict, inplace=True)\n",
    "map_2014.rename(columns={\"state\":\"State\", \"total_incidents_per_capita\":\"Per Capita\"}, inplace=True)\n",
    "map_2014 = map_2014[['State', 'Per Capita']]\n",
    "# map_2014.to_csv('map_2014.csv', index=False)"
   ]
  },
  {
   "cell_type": "code",
   "execution_count": 30,
   "id": "ddc9f1c4",
   "metadata": {},
   "outputs": [],
   "source": [
    "map_2015 = df_2015.copy()\n",
    "map_2015.drop(index=[8], inplace=True)\n",
    "map_2015.replace(state_dict, inplace=True)\n",
    "map_2015.rename(columns={\"state\":\"State\", \"total_incidents_per_capita\":\"Per Capita\"}, inplace=True)\n",
    "map_2015 = map_2015[['State', 'Per Capita']]\n",
    "# map_2015.to_csv('map_2015.csv', index=False)"
   ]
  },
  {
   "cell_type": "code",
   "execution_count": 31,
   "id": "e04d37c3",
   "metadata": {},
   "outputs": [],
   "source": [
    "map_2016 = df_2016.copy()\n",
    "map_2016.drop(index=[8], inplace=True)\n",
    "map_2016.replace(state_dict, inplace=True)\n",
    "map_2016.rename(columns={\"state\":\"State\", \"total_incidents_per_capita\":\"Per Capita\"}, inplace=True)\n",
    "map_2016 = map_2016[['State', 'Per Capita']]\n",
    "# map_2016.to_csv('map_2016.csv', index=False)"
   ]
  },
  {
   "cell_type": "code",
   "execution_count": 32,
   "id": "27904272",
   "metadata": {},
   "outputs": [],
   "source": [
    "map_2017 = df_2017.copy()\n",
    "map_2017.drop(index=[8], inplace=True)\n",
    "map_2017.replace(state_dict, inplace=True)\n",
    "map_2017.rename(columns={\"state\":\"State\", \"total_incidents_per_capita\":\"Per Capita\"}, inplace=True)\n",
    "map_2017 = map_2017[['State', 'Per Capita']]\n",
    "# map_2017.to_csv('map_2017.csv', index=False)"
   ]
  },
  {
   "cell_type": "code",
   "execution_count": 33,
   "id": "23725989",
   "metadata": {},
   "outputs": [],
   "source": [
    "map_2018 = df_2018.copy()\n",
    "map_2018.drop(index=[8], inplace=True)\n",
    "map_2018.replace(state_dict, inplace=True)\n",
    "map_2018.rename(columns={\"state\":\"State\", \"total_incidents_per_capita\":\"Per Capita\"}, inplace=True)\n",
    "map_2018 = map_2018[['State', 'Per Capita']]\n",
    "# map_2018.to_csv('map_2018.csv', index=False)"
   ]
  },
  {
   "cell_type": "code",
   "execution_count": 34,
   "id": "f1daadb2",
   "metadata": {},
   "outputs": [],
   "source": [
    "map_2019 = df_2019.copy()\n",
    "map_2019.drop(index=[8], inplace=True)\n",
    "map_2019.replace(state_dict, inplace=True)\n",
    "map_2019.rename(columns={\"state\":\"State\", \"total_incidents_per_capita\":\"Per Capita\"}, inplace=True)\n",
    "map_2019 = map_2019[['State', 'Per Capita']]\n",
    "# map_2019.to_csv('map_2019.csv', index=False)"
   ]
  },
  {
   "cell_type": "code",
   "execution_count": 35,
   "id": "48c42a33",
   "metadata": {},
   "outputs": [],
   "source": [
    "map_2020 = df_2020.copy()\n",
    "map_2020.drop(index=[8], inplace=True)\n",
    "map_2020.replace(state_dict, inplace=True)\n",
    "map_2020.rename(columns={\"state\":\"State\", \"total_incidents_per_capita\":\"Per Capita\"}, inplace=True)\n",
    "map_2020 = map_2020[['State', 'Per Capita']]\n",
    "# map_2020.to_csv('map_2020.csv', index=False)"
   ]
  },
  {
   "cell_type": "code",
   "execution_count": null,
   "id": "8d966d79",
   "metadata": {},
   "outputs": [],
   "source": []
  },
  {
   "cell_type": "code",
   "execution_count": null,
   "id": "51062baa",
   "metadata": {},
   "outputs": [],
   "source": []
  },
  {
   "cell_type": "code",
   "execution_count": null,
   "id": "8aff2b87",
   "metadata": {},
   "outputs": [],
   "source": []
  },
  {
   "cell_type": "code",
   "execution_count": null,
   "id": "fd9832bd",
   "metadata": {},
   "outputs": [],
   "source": []
  },
  {
   "cell_type": "code",
   "execution_count": null,
   "id": "c166b507",
   "metadata": {},
   "outputs": [],
   "source": []
  },
  {
   "cell_type": "code",
   "execution_count": null,
   "id": "ebf8caa3",
   "metadata": {},
   "outputs": [],
   "source": []
  },
  {
   "cell_type": "code",
   "execution_count": null,
   "id": "70320f6a",
   "metadata": {},
   "outputs": [],
   "source": []
  },
  {
   "cell_type": "code",
   "execution_count": null,
   "id": "6859423f",
   "metadata": {},
   "outputs": [],
   "source": []
  }
 ],
 "metadata": {
  "kernelspec": {
   "display_name": "Python 3 (ipykernel)",
   "language": "python",
   "name": "python3"
  },
  "language_info": {
   "codemirror_mode": {
    "name": "ipython",
    "version": 3
   },
   "file_extension": ".py",
   "mimetype": "text/x-python",
   "name": "python",
   "nbconvert_exporter": "python",
   "pygments_lexer": "ipython3",
   "version": "3.9.7"
  }
 },
 "nbformat": 4,
 "nbformat_minor": 5
}
