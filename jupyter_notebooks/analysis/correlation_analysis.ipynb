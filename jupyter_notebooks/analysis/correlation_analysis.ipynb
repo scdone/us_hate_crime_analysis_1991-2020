{
 "cells": [
  {
   "cell_type": "markdown",
   "id": "6e62fef8",
   "metadata": {},
   "source": [
    "# Exploratory Data Analysis"
   ]
  },
  {
   "cell_type": "markdown",
   "id": "cc0cf9c9",
   "metadata": {},
   "source": [
    "### Analysis of biases and political opinion data"
   ]
  },
  {
   "cell_type": "code",
   "execution_count": 1,
   "id": "eeff2ba5",
   "metadata": {},
   "outputs": [],
   "source": [
    "import pandas as pd\n",
    "import matplotlib.pyplot as plt\n",
    "import seaborn as sns\n",
    "import numpy as np\n",
    "sns.set()\n",
    "\n",
    "from scipy.stats import pearsonr\n",
    "\n",
    "%matplotlib inline"
   ]
  },
  {
   "cell_type": "code",
   "execution_count": 2,
   "id": "00d23968",
   "metadata": {},
   "outputs": [],
   "source": [
    "df = pd.read_csv(r\"C:\\Users\\14802\\Desktop\\hate-crime analysis\\datasets\\bias_total_pc_by_year.csv\")"
   ]
  },
  {
   "cell_type": "code",
   "execution_count": 3,
   "id": "2ec203f1",
   "metadata": {},
   "outputs": [],
   "source": [
    "df = df.transpose().copy()"
   ]
  },
  {
   "cell_type": "code",
   "execution_count": 4,
   "id": "360ee9b9",
   "metadata": {},
   "outputs": [],
   "source": [
    "df.columns = ['anti_american_indian_or_alaska_native',\n",
    " 'anti_arab',\n",
    " 'anti_asian',\n",
    " 'anti_atheism_agnosticism',\n",
    " 'anti_bisexual',\n",
    " 'anti_black_or_african_american',\n",
    " 'anti_buddhist',\n",
    " 'anti_catholic',\n",
    " 'anti_eastern_orthodox_russian_greek_other',\n",
    " 'anti_female',\n",
    " 'anti_gay_male',\n",
    " 'anti_gender_non_conforming',\n",
    " 'anti_heterosexual',\n",
    " 'anti_hindu',\n",
    " 'anti_hispanic_or_latino',\n",
    " 'anti_islamic_muslim',\n",
    " 'anti_jehovahs_witness',\n",
    " 'anti_jewish',\n",
    " 'anti_lesbian_female',\n",
    " 'anti_male',\n",
    " 'anti_mental_disability',\n",
    " 'anti_mormon',\n",
    " 'anti_native_hawaiian_or_other_pacific_islander',\n",
    " 'anti_physical_disability',\n",
    " 'anti_protestant',\n",
    " 'anti_sikh',\n",
    " 'anti_transgender',\n",
    " 'anti_white',\n",
    " 'anti_lgbtq_grouped']"
   ]
  },
  {
   "cell_type": "code",
   "execution_count": 5,
   "id": "58561f37",
   "metadata": {},
   "outputs": [],
   "source": [
    "df = df[1:].copy()"
   ]
  },
  {
   "cell_type": "code",
   "execution_count": 6,
   "id": "62cd8328",
   "metadata": {},
   "outputs": [],
   "source": [
    "df.reset_index(inplace=True)"
   ]
  },
  {
   "cell_type": "code",
   "execution_count": 7,
   "id": "9732c8f9",
   "metadata": {},
   "outputs": [],
   "source": [
    "df.rename(columns={'index':'year'}, inplace=True)"
   ]
  },
  {
   "cell_type": "code",
   "execution_count": 32,
   "id": "78868a03",
   "metadata": {},
   "outputs": [
    {
     "data": {
      "text/html": [
       "<div>\n",
       "<style scoped>\n",
       "    .dataframe tbody tr th:only-of-type {\n",
       "        vertical-align: middle;\n",
       "    }\n",
       "\n",
       "    .dataframe tbody tr th {\n",
       "        vertical-align: top;\n",
       "    }\n",
       "\n",
       "    .dataframe thead th {\n",
       "        text-align: right;\n",
       "    }\n",
       "</style>\n",
       "<table border=\"1\" class=\"dataframe\">\n",
       "  <thead>\n",
       "    <tr style=\"text-align: right;\">\n",
       "      <th></th>\n",
       "      <th>year</th>\n",
       "      <th>anti_american_indian_or_alaska_native</th>\n",
       "      <th>anti_arab</th>\n",
       "      <th>anti_asian</th>\n",
       "      <th>anti_atheism_agnosticism</th>\n",
       "      <th>anti_bisexual</th>\n",
       "      <th>anti_black_or_african_american</th>\n",
       "      <th>anti_buddhist</th>\n",
       "      <th>anti_catholic</th>\n",
       "      <th>anti_eastern_orthodox_russian_greek_other</th>\n",
       "      <th>...</th>\n",
       "      <th>anti_sikh</th>\n",
       "      <th>anti_transgender</th>\n",
       "      <th>anti_white</th>\n",
       "      <th>anti_lgbtq_grouped</th>\n",
       "      <th>percent_favor_gay_marriage</th>\n",
       "      <th>percent_accepting_homosexuality</th>\n",
       "      <th>percent_satisfied_with_current_us</th>\n",
       "      <th>percent_favor_immigrants</th>\n",
       "      <th>percent_agree_islam_encourages_violence</th>\n",
       "      <th>percent_agree_discrimination_hurts_black_people</th>\n",
       "    </tr>\n",
       "  </thead>\n",
       "  <tbody>\n",
       "    <tr>\n",
       "      <th>0</th>\n",
       "      <td>2000</td>\n",
       "      <td>0.021</td>\n",
       "      <td>0.013526</td>\n",
       "      <td>0.099662</td>\n",
       "      <td>0.001424</td>\n",
       "      <td>0.007475</td>\n",
       "      <td>1.04681</td>\n",
       "      <td>0.0</td>\n",
       "      <td>0.019932</td>\n",
       "      <td>0.0</td>\n",
       "      <td>...</td>\n",
       "      <td>0.0</td>\n",
       "      <td>0.0</td>\n",
       "      <td>0.322835</td>\n",
       "      <td>0.464497</td>\n",
       "      <td>35.0</td>\n",
       "      <td>50.0</td>\n",
       "      <td>50.0</td>\n",
       "      <td>50.0</td>\n",
       "      <td>25.0</td>\n",
       "      <td>31</td>\n",
       "    </tr>\n",
       "    <tr>\n",
       "      <th>1</th>\n",
       "      <td>2001</td>\n",
       "      <td>0.02749</td>\n",
       "      <td>0.089518</td>\n",
       "      <td>0.098681</td>\n",
       "      <td>0.001762</td>\n",
       "      <td>0.005286</td>\n",
       "      <td>1.030158</td>\n",
       "      <td>0.0</td>\n",
       "      <td>0.012688</td>\n",
       "      <td>0.0</td>\n",
       "      <td>...</td>\n",
       "      <td>0.0</td>\n",
       "      <td>0.0</td>\n",
       "      <td>0.290051</td>\n",
       "      <td>0.489175</td>\n",
       "      <td>35.0</td>\n",
       "      <td>50.0</td>\n",
       "      <td>48.2</td>\n",
       "      <td>50.0</td>\n",
       "      <td>25.0</td>\n",
       "      <td>31</td>\n",
       "    </tr>\n",
       "    <tr>\n",
       "      <th>2</th>\n",
       "      <td>2002</td>\n",
       "      <td>0.022697</td>\n",
       "      <td>0.028284</td>\n",
       "      <td>0.07647</td>\n",
       "      <td>0.000698</td>\n",
       "      <td>0.005587</td>\n",
       "      <td>0.891455</td>\n",
       "      <td>0.0</td>\n",
       "      <td>0.017808</td>\n",
       "      <td>0.0</td>\n",
       "      <td>...</td>\n",
       "      <td>0.0</td>\n",
       "      <td>0.0</td>\n",
       "      <td>0.281439</td>\n",
       "      <td>0.433681</td>\n",
       "      <td>35.0</td>\n",
       "      <td>50.0</td>\n",
       "      <td>44.6</td>\n",
       "      <td>50.0</td>\n",
       "      <td>25.0</td>\n",
       "      <td>31</td>\n",
       "    </tr>\n",
       "    <tr>\n",
       "      <th>3</th>\n",
       "      <td>2003</td>\n",
       "      <td>0.02458</td>\n",
       "      <td>0.004847</td>\n",
       "      <td>0.081701</td>\n",
       "      <td>0.003116</td>\n",
       "      <td>0.00277</td>\n",
       "      <td>0.891099</td>\n",
       "      <td>0.0</td>\n",
       "      <td>0.025964</td>\n",
       "      <td>0.0</td>\n",
       "      <td>...</td>\n",
       "      <td>0.0</td>\n",
       "      <td>0.0</td>\n",
       "      <td>0.288378</td>\n",
       "      <td>0.427201</td>\n",
       "      <td>32.6</td>\n",
       "      <td>47.0</td>\n",
       "      <td>43.2</td>\n",
       "      <td>46.0</td>\n",
       "      <td>44.0</td>\n",
       "      <td>24</td>\n",
       "    </tr>\n",
       "    <tr>\n",
       "      <th>4</th>\n",
       "      <td>2004</td>\n",
       "      <td>0.029156</td>\n",
       "      <td>0.0</td>\n",
       "      <td>0.076836</td>\n",
       "      <td>0.002058</td>\n",
       "      <td>0.005145</td>\n",
       "      <td>0.948439</td>\n",
       "      <td>0.0</td>\n",
       "      <td>0.019552</td>\n",
       "      <td>0.0</td>\n",
       "      <td>...</td>\n",
       "      <td>0.0</td>\n",
       "      <td>0.0</td>\n",
       "      <td>0.284017</td>\n",
       "      <td>0.398241</td>\n",
       "      <td>31.0</td>\n",
       "      <td>49.0</td>\n",
       "      <td>38.3</td>\n",
       "      <td>45.0</td>\n",
       "      <td>46.0</td>\n",
       "      <td>27</td>\n",
       "    </tr>\n",
       "  </tbody>\n",
       "</table>\n",
       "<p>5 rows × 36 columns</p>\n",
       "</div>"
      ],
      "text/plain": [
       "   year anti_american_indian_or_alaska_native anti_arab anti_asian  \\\n",
       "0  2000                                 0.021  0.013526   0.099662   \n",
       "1  2001                               0.02749  0.089518   0.098681   \n",
       "2  2002                              0.022697  0.028284    0.07647   \n",
       "3  2003                               0.02458  0.004847   0.081701   \n",
       "4  2004                              0.029156       0.0   0.076836   \n",
       "\n",
       "  anti_atheism_agnosticism anti_bisexual anti_black_or_african_american  \\\n",
       "0                 0.001424      0.007475                        1.04681   \n",
       "1                 0.001762      0.005286                       1.030158   \n",
       "2                 0.000698      0.005587                       0.891455   \n",
       "3                 0.003116       0.00277                       0.891099   \n",
       "4                 0.002058      0.005145                       0.948439   \n",
       "\n",
       "  anti_buddhist anti_catholic anti_eastern_orthodox_russian_greek_other  ...  \\\n",
       "0           0.0      0.019932                                       0.0  ...   \n",
       "1           0.0      0.012688                                       0.0  ...   \n",
       "2           0.0      0.017808                                       0.0  ...   \n",
       "3           0.0      0.025964                                       0.0  ...   \n",
       "4           0.0      0.019552                                       0.0  ...   \n",
       "\n",
       "  anti_sikh anti_transgender anti_white anti_lgbtq_grouped  \\\n",
       "0       0.0              0.0   0.322835           0.464497   \n",
       "1       0.0              0.0   0.290051           0.489175   \n",
       "2       0.0              0.0   0.281439           0.433681   \n",
       "3       0.0              0.0   0.288378           0.427201   \n",
       "4       0.0              0.0   0.284017           0.398241   \n",
       "\n",
       "  percent_favor_gay_marriage percent_accepting_homosexuality  \\\n",
       "0                       35.0                            50.0   \n",
       "1                       35.0                            50.0   \n",
       "2                       35.0                            50.0   \n",
       "3                       32.6                            47.0   \n",
       "4                       31.0                            49.0   \n",
       "\n",
       "  percent_satisfied_with_current_us percent_favor_immigrants  \\\n",
       "0                              50.0                     50.0   \n",
       "1                              48.2                     50.0   \n",
       "2                              44.6                     50.0   \n",
       "3                              43.2                     46.0   \n",
       "4                              38.3                     45.0   \n",
       "\n",
       "  percent_agree_islam_encourages_violence  \\\n",
       "0                                    25.0   \n",
       "1                                    25.0   \n",
       "2                                    25.0   \n",
       "3                                    44.0   \n",
       "4                                    46.0   \n",
       "\n",
       "  percent_agree_discrimination_hurts_black_people  \n",
       "0                                              31  \n",
       "1                                              31  \n",
       "2                                              31  \n",
       "3                                              24  \n",
       "4                                              27  \n",
       "\n",
       "[5 rows x 36 columns]"
      ]
     },
     "execution_count": 32,
     "metadata": {},
     "output_type": "execute_result"
    }
   ],
   "source": [
    "df.head()"
   ]
  },
  {
   "cell_type": "code",
   "execution_count": 9,
   "id": "26c49e06",
   "metadata": {},
   "outputs": [],
   "source": [
    "political_df = pd.read_csv(r\"C:\\Users\\14802\\Desktop\\hate-crime analysis\\datasets\\clean_pew_research.csv\")"
   ]
  },
  {
   "cell_type": "code",
   "execution_count": 33,
   "id": "49cfb82e",
   "metadata": {},
   "outputs": [
    {
     "data": {
      "text/html": [
       "<div>\n",
       "<style scoped>\n",
       "    .dataframe tbody tr th:only-of-type {\n",
       "        vertical-align: middle;\n",
       "    }\n",
       "\n",
       "    .dataframe tbody tr th {\n",
       "        vertical-align: top;\n",
       "    }\n",
       "\n",
       "    .dataframe thead th {\n",
       "        text-align: right;\n",
       "    }\n",
       "</style>\n",
       "<table border=\"1\" class=\"dataframe\">\n",
       "  <thead>\n",
       "    <tr style=\"text-align: right;\">\n",
       "      <th></th>\n",
       "      <th>year</th>\n",
       "      <th>percent_favor_gay_marriage</th>\n",
       "      <th>percent_accepting_homosexuality</th>\n",
       "      <th>percent_satisfied_with_current_us</th>\n",
       "      <th>percent_favor_immigrants</th>\n",
       "      <th>percent_agree_islam_encourages_violence</th>\n",
       "      <th>percent_agree_discrimination_hurts_black_people</th>\n",
       "    </tr>\n",
       "  </thead>\n",
       "  <tbody>\n",
       "    <tr>\n",
       "      <th>0</th>\n",
       "      <td>2000</td>\n",
       "      <td>35.0</td>\n",
       "      <td>50.0</td>\n",
       "      <td>50.0</td>\n",
       "      <td>50.0</td>\n",
       "      <td>25.0</td>\n",
       "      <td>31</td>\n",
       "    </tr>\n",
       "    <tr>\n",
       "      <th>1</th>\n",
       "      <td>2001</td>\n",
       "      <td>35.0</td>\n",
       "      <td>50.0</td>\n",
       "      <td>48.2</td>\n",
       "      <td>50.0</td>\n",
       "      <td>25.0</td>\n",
       "      <td>31</td>\n",
       "    </tr>\n",
       "    <tr>\n",
       "      <th>2</th>\n",
       "      <td>2002</td>\n",
       "      <td>35.0</td>\n",
       "      <td>50.0</td>\n",
       "      <td>44.6</td>\n",
       "      <td>50.0</td>\n",
       "      <td>25.0</td>\n",
       "      <td>31</td>\n",
       "    </tr>\n",
       "    <tr>\n",
       "      <th>3</th>\n",
       "      <td>2003</td>\n",
       "      <td>32.6</td>\n",
       "      <td>47.0</td>\n",
       "      <td>43.2</td>\n",
       "      <td>46.0</td>\n",
       "      <td>44.0</td>\n",
       "      <td>24</td>\n",
       "    </tr>\n",
       "    <tr>\n",
       "      <th>4</th>\n",
       "      <td>2004</td>\n",
       "      <td>31.0</td>\n",
       "      <td>49.0</td>\n",
       "      <td>38.3</td>\n",
       "      <td>45.0</td>\n",
       "      <td>46.0</td>\n",
       "      <td>27</td>\n",
       "    </tr>\n",
       "  </tbody>\n",
       "</table>\n",
       "</div>"
      ],
      "text/plain": [
       "   year  percent_favor_gay_marriage  percent_accepting_homosexuality  \\\n",
       "0  2000                        35.0                             50.0   \n",
       "1  2001                        35.0                             50.0   \n",
       "2  2002                        35.0                             50.0   \n",
       "3  2003                        32.6                             47.0   \n",
       "4  2004                        31.0                             49.0   \n",
       "\n",
       "   percent_satisfied_with_current_us  percent_favor_immigrants  \\\n",
       "0                               50.0                      50.0   \n",
       "1                               48.2                      50.0   \n",
       "2                               44.6                      50.0   \n",
       "3                               43.2                      46.0   \n",
       "4                               38.3                      45.0   \n",
       "\n",
       "   percent_agree_islam_encourages_violence  \\\n",
       "0                                     25.0   \n",
       "1                                     25.0   \n",
       "2                                     25.0   \n",
       "3                                     44.0   \n",
       "4                                     46.0   \n",
       "\n",
       "   percent_agree_discrimination_hurts_black_people  \n",
       "0                                               31  \n",
       "1                                               31  \n",
       "2                                               31  \n",
       "3                                               24  \n",
       "4                                               27  "
      ]
     },
     "execution_count": 33,
     "metadata": {},
     "output_type": "execute_result"
    }
   ],
   "source": [
    "political_df.head()"
   ]
  },
  {
   "cell_type": "code",
   "execution_count": 12,
   "id": "2aaed1ee",
   "metadata": {},
   "outputs": [],
   "source": [
    "political_df.year = political_df.year.astype(str)"
   ]
  },
  {
   "cell_type": "code",
   "execution_count": 13,
   "id": "45a748d1",
   "metadata": {},
   "outputs": [],
   "source": [
    "df = df.merge(political_df, on='year')"
   ]
  },
  {
   "cell_type": "code",
   "execution_count": 14,
   "id": "3b5a15c2",
   "metadata": {},
   "outputs": [
    {
     "data": {
      "text/html": [
       "<div>\n",
       "<style scoped>\n",
       "    .dataframe tbody tr th:only-of-type {\n",
       "        vertical-align: middle;\n",
       "    }\n",
       "\n",
       "    .dataframe tbody tr th {\n",
       "        vertical-align: top;\n",
       "    }\n",
       "\n",
       "    .dataframe thead th {\n",
       "        text-align: right;\n",
       "    }\n",
       "</style>\n",
       "<table border=\"1\" class=\"dataframe\">\n",
       "  <thead>\n",
       "    <tr style=\"text-align: right;\">\n",
       "      <th></th>\n",
       "      <th>year</th>\n",
       "      <th>anti_american_indian_or_alaska_native</th>\n",
       "      <th>anti_arab</th>\n",
       "      <th>anti_asian</th>\n",
       "      <th>anti_atheism_agnosticism</th>\n",
       "      <th>anti_bisexual</th>\n",
       "      <th>anti_black_or_african_american</th>\n",
       "      <th>anti_buddhist</th>\n",
       "      <th>anti_catholic</th>\n",
       "      <th>anti_eastern_orthodox_russian_greek_other</th>\n",
       "      <th>...</th>\n",
       "      <th>anti_sikh</th>\n",
       "      <th>anti_transgender</th>\n",
       "      <th>anti_white</th>\n",
       "      <th>anti_lgbtq_grouped</th>\n",
       "      <th>percent_favor_gay_marriage</th>\n",
       "      <th>percent_accepting_homosexuality</th>\n",
       "      <th>percent_satisfied_with_current_us</th>\n",
       "      <th>percent_favor_immigrants</th>\n",
       "      <th>percent_agree_islam_encourages_violence</th>\n",
       "      <th>percent_agree_discrimination_hurts_black_people</th>\n",
       "    </tr>\n",
       "  </thead>\n",
       "  <tbody>\n",
       "    <tr>\n",
       "      <th>0</th>\n",
       "      <td>2000</td>\n",
       "      <td>0.021</td>\n",
       "      <td>0.013526</td>\n",
       "      <td>0.099662</td>\n",
       "      <td>0.001424</td>\n",
       "      <td>0.007475</td>\n",
       "      <td>1.04681</td>\n",
       "      <td>0.0</td>\n",
       "      <td>0.019932</td>\n",
       "      <td>0.0</td>\n",
       "      <td>...</td>\n",
       "      <td>0.0</td>\n",
       "      <td>0.0</td>\n",
       "      <td>0.322835</td>\n",
       "      <td>0.464497</td>\n",
       "      <td>35.0</td>\n",
       "      <td>50.0</td>\n",
       "      <td>50.0</td>\n",
       "      <td>50.0</td>\n",
       "      <td>25.0</td>\n",
       "      <td>31</td>\n",
       "    </tr>\n",
       "    <tr>\n",
       "      <th>1</th>\n",
       "      <td>2001</td>\n",
       "      <td>0.02749</td>\n",
       "      <td>0.089518</td>\n",
       "      <td>0.098681</td>\n",
       "      <td>0.001762</td>\n",
       "      <td>0.005286</td>\n",
       "      <td>1.030158</td>\n",
       "      <td>0.0</td>\n",
       "      <td>0.012688</td>\n",
       "      <td>0.0</td>\n",
       "      <td>...</td>\n",
       "      <td>0.0</td>\n",
       "      <td>0.0</td>\n",
       "      <td>0.290051</td>\n",
       "      <td>0.489175</td>\n",
       "      <td>35.0</td>\n",
       "      <td>50.0</td>\n",
       "      <td>48.2</td>\n",
       "      <td>50.0</td>\n",
       "      <td>25.0</td>\n",
       "      <td>31</td>\n",
       "    </tr>\n",
       "    <tr>\n",
       "      <th>2</th>\n",
       "      <td>2002</td>\n",
       "      <td>0.022697</td>\n",
       "      <td>0.028284</td>\n",
       "      <td>0.07647</td>\n",
       "      <td>0.000698</td>\n",
       "      <td>0.005587</td>\n",
       "      <td>0.891455</td>\n",
       "      <td>0.0</td>\n",
       "      <td>0.017808</td>\n",
       "      <td>0.0</td>\n",
       "      <td>...</td>\n",
       "      <td>0.0</td>\n",
       "      <td>0.0</td>\n",
       "      <td>0.281439</td>\n",
       "      <td>0.433681</td>\n",
       "      <td>35.0</td>\n",
       "      <td>50.0</td>\n",
       "      <td>44.6</td>\n",
       "      <td>50.0</td>\n",
       "      <td>25.0</td>\n",
       "      <td>31</td>\n",
       "    </tr>\n",
       "    <tr>\n",
       "      <th>3</th>\n",
       "      <td>2003</td>\n",
       "      <td>0.02458</td>\n",
       "      <td>0.004847</td>\n",
       "      <td>0.081701</td>\n",
       "      <td>0.003116</td>\n",
       "      <td>0.00277</td>\n",
       "      <td>0.891099</td>\n",
       "      <td>0.0</td>\n",
       "      <td>0.025964</td>\n",
       "      <td>0.0</td>\n",
       "      <td>...</td>\n",
       "      <td>0.0</td>\n",
       "      <td>0.0</td>\n",
       "      <td>0.288378</td>\n",
       "      <td>0.427201</td>\n",
       "      <td>32.6</td>\n",
       "      <td>47.0</td>\n",
       "      <td>43.2</td>\n",
       "      <td>46.0</td>\n",
       "      <td>44.0</td>\n",
       "      <td>24</td>\n",
       "    </tr>\n",
       "    <tr>\n",
       "      <th>4</th>\n",
       "      <td>2004</td>\n",
       "      <td>0.029156</td>\n",
       "      <td>0.0</td>\n",
       "      <td>0.076836</td>\n",
       "      <td>0.002058</td>\n",
       "      <td>0.005145</td>\n",
       "      <td>0.948439</td>\n",
       "      <td>0.0</td>\n",
       "      <td>0.019552</td>\n",
       "      <td>0.0</td>\n",
       "      <td>...</td>\n",
       "      <td>0.0</td>\n",
       "      <td>0.0</td>\n",
       "      <td>0.284017</td>\n",
       "      <td>0.398241</td>\n",
       "      <td>31.0</td>\n",
       "      <td>49.0</td>\n",
       "      <td>38.3</td>\n",
       "      <td>45.0</td>\n",
       "      <td>46.0</td>\n",
       "      <td>27</td>\n",
       "    </tr>\n",
       "  </tbody>\n",
       "</table>\n",
       "<p>5 rows × 36 columns</p>\n",
       "</div>"
      ],
      "text/plain": [
       "   year anti_american_indian_or_alaska_native anti_arab anti_asian  \\\n",
       "0  2000                                 0.021  0.013526   0.099662   \n",
       "1  2001                               0.02749  0.089518   0.098681   \n",
       "2  2002                              0.022697  0.028284    0.07647   \n",
       "3  2003                               0.02458  0.004847   0.081701   \n",
       "4  2004                              0.029156       0.0   0.076836   \n",
       "\n",
       "  anti_atheism_agnosticism anti_bisexual anti_black_or_african_american  \\\n",
       "0                 0.001424      0.007475                        1.04681   \n",
       "1                 0.001762      0.005286                       1.030158   \n",
       "2                 0.000698      0.005587                       0.891455   \n",
       "3                 0.003116       0.00277                       0.891099   \n",
       "4                 0.002058      0.005145                       0.948439   \n",
       "\n",
       "  anti_buddhist anti_catholic anti_eastern_orthodox_russian_greek_other  ...  \\\n",
       "0           0.0      0.019932                                       0.0  ...   \n",
       "1           0.0      0.012688                                       0.0  ...   \n",
       "2           0.0      0.017808                                       0.0  ...   \n",
       "3           0.0      0.025964                                       0.0  ...   \n",
       "4           0.0      0.019552                                       0.0  ...   \n",
       "\n",
       "  anti_sikh anti_transgender anti_white anti_lgbtq_grouped  \\\n",
       "0       0.0              0.0   0.322835           0.464497   \n",
       "1       0.0              0.0   0.290051           0.489175   \n",
       "2       0.0              0.0   0.281439           0.433681   \n",
       "3       0.0              0.0   0.288378           0.427201   \n",
       "4       0.0              0.0   0.284017           0.398241   \n",
       "\n",
       "  percent_favor_gay_marriage percent_accepting_homosexuality  \\\n",
       "0                       35.0                            50.0   \n",
       "1                       35.0                            50.0   \n",
       "2                       35.0                            50.0   \n",
       "3                       32.6                            47.0   \n",
       "4                       31.0                            49.0   \n",
       "\n",
       "  percent_satisfied_with_current_us percent_favor_immigrants  \\\n",
       "0                              50.0                     50.0   \n",
       "1                              48.2                     50.0   \n",
       "2                              44.6                     50.0   \n",
       "3                              43.2                     46.0   \n",
       "4                              38.3                     45.0   \n",
       "\n",
       "  percent_agree_islam_encourages_violence  \\\n",
       "0                                    25.0   \n",
       "1                                    25.0   \n",
       "2                                    25.0   \n",
       "3                                    44.0   \n",
       "4                                    46.0   \n",
       "\n",
       "  percent_agree_discrimination_hurts_black_people  \n",
       "0                                              31  \n",
       "1                                              31  \n",
       "2                                              31  \n",
       "3                                              24  \n",
       "4                                              27  \n",
       "\n",
       "[5 rows x 36 columns]"
      ]
     },
     "execution_count": 14,
     "metadata": {},
     "output_type": "execute_result"
    }
   ],
   "source": [
    "df.head()"
   ]
  },
  {
   "cell_type": "code",
   "execution_count": 34,
   "id": "c777e612",
   "metadata": {},
   "outputs": [],
   "source": [
    "us_data = pd.read_csv(r\"C:\\Users\\14802\\Desktop\\hate-crime analysis\\datasets\\us_per_cap_totals.csv\")"
   ]
  },
  {
   "cell_type": "code",
   "execution_count": 37,
   "id": "d92cade5",
   "metadata": {},
   "outputs": [],
   "source": [
    "us_data = us_data[['year', 'total_incidents_per_capita']].copy()"
   ]
  },
  {
   "cell_type": "code",
   "execution_count": 40,
   "id": "d29160c2",
   "metadata": {},
   "outputs": [],
   "source": [
    "us_data.year = us_data.year.astype(str)"
   ]
  },
  {
   "cell_type": "code",
   "execution_count": 41,
   "id": "8767d7f5",
   "metadata": {},
   "outputs": [],
   "source": [
    "df = df.merge(us_data, on='year')"
   ]
  },
  {
   "cell_type": "code",
   "execution_count": 43,
   "id": "8a197e78",
   "metadata": {},
   "outputs": [],
   "source": [
    "df.rename(columns={\"total_incidents_per_capita\":\"us_total_crimes_per_capita\"}, inplace=True)"
   ]
  },
  {
   "cell_type": "markdown",
   "id": "fc504f81",
   "metadata": {},
   "source": [
    "## Exploratory Question: \n",
    "\n",
    "### Is there a relationship between the percentage of people who believe homomsexuality should be accepted  by society and the amount of anti-gay or anti-lesbian hate crimes per capita?"
   ]
  },
  {
   "cell_type": "code",
   "execution_count": 15,
   "id": "d3f3bb9d",
   "metadata": {},
   "outputs": [
    {
     "data": {
      "text/plain": [
       "(-0.5055942779471553, 0.01937866776998959)"
      ]
     },
     "execution_count": 15,
     "metadata": {},
     "output_type": "execute_result"
    }
   ],
   "source": [
    "pearsonr(df['anti_gay_male'], df['percent_accepting_homosexuality'])"
   ]
  },
  {
   "cell_type": "markdown",
   "id": "4e439365",
   "metadata": {},
   "source": [
    "The coefficient of -0.5055942779471553 and p-value of 0.01937866776998959 show a **moderate negative relationship which is statistically significant** (generally, the lower the p-value, the higher the statistical significance. Anything below .05 is typically considered statistically significant). "
   ]
  },
  {
   "cell_type": "code",
   "execution_count": 22,
   "id": "7c5786c8",
   "metadata": {},
   "outputs": [
    {
     "data": {
      "image/png": "[encoded data removed]",
      "text/plain": [
       "<Figure size 432x288 with 1 Axes>"
      ]
     },
     "metadata": {
      "needs_background": "light"
     },
     "output_type": "display_data"
    }
   ],
   "source": [
    "sns.scatterplot(x=df['anti_gay_male'], y=df['percent_accepting_homosexuality']);"
   ]
  },
  {
   "cell_type": "code",
   "execution_count": 17,
   "id": "0a670678",
   "metadata": {},
   "outputs": [
    {
     "data": {
      "text/plain": [
       "(-0.8017499838057306, 1.243257264362834e-05)"
      ]
     },
     "execution_count": 17,
     "metadata": {},
     "output_type": "execute_result"
    }
   ],
   "source": [
    "pearsonr(df['anti_lesbian_female'], df['percent_accepting_homosexuality'])"
   ]
  },
  {
   "cell_type": "markdown",
   "id": "463b7a7a",
   "metadata": {},
   "source": [
    "The coefficient of -0.8017499838057306 and p-value of 1.243257264362834e-05 show a **strong negative relationship with a high statistical significance** (generally, the lower the p-value, the higher the statistical significance. Anything below .05 is typically considered statistically significant). "
   ]
  },
  {
   "cell_type": "code",
   "execution_count": 19,
   "id": "82ff7d29",
   "metadata": {},
   "outputs": [
    {
     "data": {
      "image/png": "[encoded data removed]",
      "text/plain": [
       "<Figure size 432x288 with 1 Axes>"
      ]
     },
     "metadata": {
      "needs_background": "light"
     },
     "output_type": "display_data"
    }
   ],
   "source": [
    "sns.scatterplot(data=df, x=df['anti_lesbian_female'], y=df['percent_accepting_homosexuality']);"
   ]
  },
  {
   "cell_type": "markdown",
   "id": "199dc00a",
   "metadata": {},
   "source": [
    "## Exploratory Question: \n",
    "\n",
    "### Is there a relationship between the percentage of people who support gay and lesbian marriage and the amount of anti-gay or anti-lesbian hate crimes per capita?"
   ]
  },
  {
   "cell_type": "code",
   "execution_count": 23,
   "id": "4ddd77bd",
   "metadata": {},
   "outputs": [
    {
     "data": {
      "text/plain": [
       "(-0.5542383764685134, 0.009129605621183317)"
      ]
     },
     "execution_count": 23,
     "metadata": {},
     "output_type": "execute_result"
    }
   ],
   "source": [
    "pearsonr(df['anti_gay_male'], df['percent_favor_gay_marriage'])"
   ]
  },
  {
   "cell_type": "markdown",
   "id": "7da82270",
   "metadata": {},
   "source": [
    "The coefficient of -0.5542383764685134 and p-value of 0.009129605621183317 show a **moderate negative relationship which is statistically significant** (generally, the lower the p-value, the higher the statistical significance. Anything below .05 is typically considered statistically significant). "
   ]
  },
  {
   "cell_type": "code",
   "execution_count": 25,
   "id": "17b860f8",
   "metadata": {},
   "outputs": [
    {
     "data": {
      "text/plain": [
       "<AxesSubplot:xlabel='anti_gay_male', ylabel='percent_favor_gay_marriage'>"
      ]
     },
     "execution_count": 25,
     "metadata": {},
     "output_type": "execute_result"
    },
    {
     "data": {
      "image/png": "[encoded data removed]",
      "text/plain": [
       "<Figure size 432x288 with 1 Axes>"
      ]
     },
     "metadata": {
      "needs_background": "light"
     },
     "output_type": "display_data"
    }
   ],
   "source": [
    "sns.scatterplot(data=df, x=df['anti_gay_male'], y=df['percent_favor_gay_marriage'])"
   ]
  },
  {
   "cell_type": "code",
   "execution_count": 24,
   "id": "7967c20b",
   "metadata": {},
   "outputs": [
    {
     "data": {
      "text/plain": [
       "(-0.8174220397019577, 6.0704623900791915e-06)"
      ]
     },
     "execution_count": 24,
     "metadata": {},
     "output_type": "execute_result"
    }
   ],
   "source": [
    "pearsonr(df['anti_lesbian_female'], df['percent_favor_gay_marriage'])"
   ]
  },
  {
   "cell_type": "markdown",
   "id": "517c3cb3",
   "metadata": {},
   "source": [
    "The coefficient of -0.8174220397019577 and p-value 6.0704623900791915e-06 show a **strong negative relationship with a high statistical significance** (generally, the lower the p-value, the higher the statistical significance. Anything below .05 is typically considered statistically significant). "
   ]
  },
  {
   "cell_type": "code",
   "execution_count": 26,
   "id": "5a592a31",
   "metadata": {},
   "outputs": [
    {
     "data": {
      "text/plain": [
       "<AxesSubplot:xlabel='anti_lesbian_female', ylabel='percent_favor_gay_marriage'>"
      ]
     },
     "execution_count": 26,
     "metadata": {},
     "output_type": "execute_result"
    },
    {
     "data": {
      "image/png": "[encoded data removed]",
      "text/plain": [
       "<Figure size 432x288 with 1 Axes>"
      ]
     },
     "metadata": {
      "needs_background": "light"
     },
     "output_type": "display_data"
    }
   ],
   "source": [
    "sns.scatterplot(data=df, x=df['anti_lesbian_female'], y=df['percent_favor_gay_marriage'])"
   ]
  },
  {
   "cell_type": "markdown",
   "id": "9c40a63a",
   "metadata": {},
   "source": [
    "## Exploratory Question: \n",
    "\n",
    "### Is there a relationship between the percentage of people who agree Islamic beliefs encourage violence and the amount of anti-islamic hate crimes per capita?"
   ]
  },
  {
   "cell_type": "code",
   "execution_count": 27,
   "id": "08fdd560",
   "metadata": {},
   "outputs": [
    {
     "data": {
      "text/plain": [
       "(-0.20605504950694012, 0.3701921047027624)"
      ]
     },
     "execution_count": 27,
     "metadata": {},
     "output_type": "execute_result"
    }
   ],
   "source": [
    "pearsonr(df['anti_islamic_muslim'], df['percent_agree_islam_encourages_violence'])"
   ]
  },
  {
   "cell_type": "markdown",
   "id": "55de2ce1",
   "metadata": {},
   "source": [
    "Because the p-value here is well above .05, these results suggest no statistically significant relationship between the amount of anti-islamic hate crimes and the percentage of people who think Islam encourages violence among its members. "
   ]
  },
  {
   "cell_type": "code",
   "execution_count": 28,
   "id": "9579f80c",
   "metadata": {},
   "outputs": [
    {
     "data": {
      "text/plain": [
       "<AxesSubplot:xlabel='anti_islamic_muslim', ylabel='percent_agree_islam_encourages_violence'>"
      ]
     },
     "execution_count": 28,
     "metadata": {},
     "output_type": "execute_result"
    },
    {
     "data": {
      "image/png": "[encoded data removed]",
      "text/plain": [
       "<Figure size 432x288 with 1 Axes>"
      ]
     },
     "metadata": {
      "needs_background": "light"
     },
     "output_type": "display_data"
    }
   ],
   "source": [
    "sns.scatterplot(data=df, x=df['anti_islamic_muslim'], y=df['percent_agree_islam_encourages_violence'])"
   ]
  },
  {
   "cell_type": "markdown",
   "id": "297b2ade",
   "metadata": {},
   "source": [
    "As expected by the pearsonr calculation results, there does not appear to be any relationship between the amount of anti-islamic hate crimes and the percentage of people who think Islam encourages violence among its members. "
   ]
  },
  {
   "cell_type": "markdown",
   "id": "288f2676",
   "metadata": {},
   "source": [
    "## Exploratory Question: \n",
    "\n",
    "### Is there a relationship between the percentage of people who agree racial discrimination makes it hard for many black people to \"get ahead\" and the amount of anti-black hate crimes per capita?"
   ]
  },
  {
   "cell_type": "code",
   "execution_count": 29,
   "id": "741c4dbf",
   "metadata": {},
   "outputs": [
    {
     "data": {
      "text/plain": [
       "(0.035836716210967554, 0.8774383232202404)"
      ]
     },
     "execution_count": 29,
     "metadata": {},
     "output_type": "execute_result"
    }
   ],
   "source": [
    "pearsonr(df['anti_black_or_african_american'], df['percent_agree_discrimination_hurts_black_people'])"
   ]
  },
  {
   "cell_type": "markdown",
   "id": "0883c822",
   "metadata": {},
   "source": [
    "Based on the coeffiecient of 0.0358 and p-value of 0.878, there is no observed relationship between the amount of anti-black hate crimes and the percent of people who agree that racial discrimination hurts black peoples' ability to get ahead. (For correlation, the closer the value is to -1 or 1, the higher the correlation. For p-value, the results are not considered statistically significant unless the p-value is under 0.05). "
   ]
  },
  {
   "cell_type": "code",
   "execution_count": 31,
   "id": "47d92c8f",
   "metadata": {},
   "outputs": [
    {
     "data": {
      "text/plain": [
       "<AxesSubplot:xlabel='anti_black_or_african_american', ylabel='percent_agree_discrimination_hurts_black_people'>"
      ]
     },
     "execution_count": 31,
     "metadata": {},
     "output_type": "execute_result"
    },
    {
     "data": {
      "image/png": "[encoded data removed]",
      "text/plain": [
       "<Figure size 432x288 with 1 Axes>"
      ]
     },
     "metadata": {
      "needs_background": "light"
     },
     "output_type": "display_data"
    }
   ],
   "source": [
    "sns.scatterplot(data=df, x=df['anti_black_or_african_american'], y=df['percent_agree_discrimination_hurts_black_people'])"
   ]
  },
  {
   "cell_type": "markdown",
   "id": "ce50e5ac",
   "metadata": {},
   "source": [
    "As expected by the pearsonr calculation above, there is no apparent relationship between the amount of anti-black hate crimes and the percent of people who agree that racial discrimination hurts black peoples' ability to get ahead."
   ]
  },
  {
   "cell_type": "markdown",
   "id": "a956c4f3",
   "metadata": {},
   "source": [
    "## Exploratory Question: \n",
    "\n",
    "### Is there a relationship between the total amount of hate crimes per capita across the U.S. and the percentage of people who said they were satisfied with the way things were going in the U.S. each year?"
   ]
  },
  {
   "cell_type": "code",
   "execution_count": 44,
   "id": "cff81cbb",
   "metadata": {},
   "outputs": [
    {
     "data": {
      "text/plain": [
       "(0.6345704446811915, 0.0020021476662400216)"
      ]
     },
     "execution_count": 44,
     "metadata": {},
     "output_type": "execute_result"
    }
   ],
   "source": [
    "pearsonr(df['us_total_crimes_per_capita'], df['percent_satisfied_with_current_us'])"
   ]
  },
  {
   "cell_type": "code",
   "execution_count": 45,
   "id": "963e622b",
   "metadata": {},
   "outputs": [
    {
     "data": {
      "text/plain": [
       "<AxesSubplot:xlabel='us_total_crimes_per_capita', ylabel='percent_satisfied_with_current_us'>"
      ]
     },
     "execution_count": 45,
     "metadata": {},
     "output_type": "execute_result"
    },
    {
     "data": {
      "image/png": "[encoded data removed]",
      "text/plain": [
       "<Figure size 432x288 with 1 Axes>"
      ]
     },
     "metadata": {
      "needs_background": "light"
     },
     "output_type": "display_data"
    }
   ],
   "source": [
    "sns.scatterplot(data=df, x=df['us_total_crimes_per_capita'], y=df['percent_satisfied_with_current_us'])"
   ]
  },
  {
   "cell_type": "markdown",
   "id": "999e4084",
   "metadata": {},
   "source": [
    "These results are defeinitely surprising. It is important to remember that correlation does not equal causation. Going into this, I thought there might be a correlation between a larger percentage of people being unhappy with the current U.S. situation and a smaller amount of hate crimes, but it seems that hypothesis is not correct.\n",
    "\n",
    "This pearsonr correlation shows a moderately strong correlation between the percentage of people satisfied with the current situation in the U.S. and the amount of hate crimes per capita across the U.S. (correlation of 0.63457 and p-value of 0.002).\n",
    "\n",
    "Again, just because there is a correlation does not mean there is any causation. Common sense tells me this is most likely pure coincidental correlation. "
   ]
  }
 ],
 "metadata": {
  "kernelspec": {
   "display_name": "Python 3 (ipykernel)",
   "language": "python",
   "name": "python3"
  },
  "language_info": {
   "codemirror_mode": {
    "name": "ipython",
    "version": 3
   },
   "file_extension": ".py",
   "mimetype": "text/x-python",
   "name": "python",
   "nbconvert_exporter": "python",
   "pygments_lexer": "ipython3",
   "version": "3.9.7"
  }
 },
 "nbformat": 4,
 "nbformat_minor": 5
}
